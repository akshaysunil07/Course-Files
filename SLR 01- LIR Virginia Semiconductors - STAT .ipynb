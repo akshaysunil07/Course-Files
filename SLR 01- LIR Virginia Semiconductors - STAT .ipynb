{
 "cells": [
  {
   "cell_type": "code",
   "execution_count": 1,
   "metadata": {},
   "outputs": [],
   "source": [
    "import numpy as np\n",
    "import pandas as pd\n",
    "import seaborn as sns\n",
    "import matplotlib.pyplot as plt"
   ]
  },
  {
   "cell_type": "code",
   "execution_count": 2,
   "metadata": {},
   "outputs": [],
   "source": [
    "df=pd.read_csv(\"virginia semiconductors.csv\")"
   ]
  },
  {
   "cell_type": "code",
   "execution_count": 3,
   "metadata": {},
   "outputs": [
    {
     "data": {
      "text/html": [
       "<div>\n",
       "<style scoped>\n",
       "    .dataframe tbody tr th:only-of-type {\n",
       "        vertical-align: middle;\n",
       "    }\n",
       "\n",
       "    .dataframe tbody tr th {\n",
       "        vertical-align: top;\n",
       "    }\n",
       "\n",
       "    .dataframe thead th {\n",
       "        text-align: right;\n",
       "    }\n",
       "</style>\n",
       "<table border=\"1\" class=\"dataframe\">\n",
       "  <thead>\n",
       "    <tr style=\"text-align: right;\">\n",
       "      <th></th>\n",
       "      <th>Size_of_Purchase</th>\n",
       "      <th>Company_Size</th>\n",
       "      <th>%Imports</th>\n",
       "      <th>Distance</th>\n",
       "      <th>Central_Purchaser</th>\n",
       "    </tr>\n",
       "  </thead>\n",
       "  <tbody>\n",
       "    <tr>\n",
       "      <th>0</th>\n",
       "      <td>27.9</td>\n",
       "      <td>25.6</td>\n",
       "      <td>41</td>\n",
       "      <td>18</td>\n",
       "      <td>0</td>\n",
       "    </tr>\n",
       "    <tr>\n",
       "      <th>1</th>\n",
       "      <td>89.6</td>\n",
       "      <td>109.8</td>\n",
       "      <td>16</td>\n",
       "      <td>75</td>\n",
       "      <td>0</td>\n",
       "    </tr>\n",
       "    <tr>\n",
       "      <th>2</th>\n",
       "      <td>12.8</td>\n",
       "      <td>39.4</td>\n",
       "      <td>29</td>\n",
       "      <td>14</td>\n",
       "      <td>0</td>\n",
       "    </tr>\n",
       "    <tr>\n",
       "      <th>3</th>\n",
       "      <td>34.9</td>\n",
       "      <td>16.7</td>\n",
       "      <td>31</td>\n",
       "      <td>117</td>\n",
       "      <td>0</td>\n",
       "    </tr>\n",
       "    <tr>\n",
       "      <th>4</th>\n",
       "      <td>408.6</td>\n",
       "      <td>278.4</td>\n",
       "      <td>14</td>\n",
       "      <td>209</td>\n",
       "      <td>1</td>\n",
       "    </tr>\n",
       "  </tbody>\n",
       "</table>\n",
       "</div>"
      ],
      "text/plain": [
       "   Size_of_Purchase  Company_Size  %Imports  Distance  Central_Purchaser\n",
       "0              27.9          25.6        41        18                  0\n",
       "1              89.6         109.8        16        75                  0\n",
       "2              12.8          39.4        29        14                  0\n",
       "3              34.9          16.7        31       117                  0\n",
       "4             408.6         278.4        14       209                  1"
      ]
     },
     "execution_count": 3,
     "metadata": {},
     "output_type": "execute_result"
    }
   ],
   "source": [
    "df.head()"
   ]
  },
  {
   "cell_type": "code",
   "execution_count": 4,
   "metadata": {},
   "outputs": [],
   "source": [
    "y=df['Size_of_Purchase']\n",
    "x=df.drop('Size_of_Purchase',axis=1)"
   ]
  },
  {
   "cell_type": "code",
   "execution_count": 5,
   "metadata": {},
   "outputs": [],
   "source": [
    "import statsmodels.api as sm"
   ]
  },
  {
   "cell_type": "code",
   "execution_count": 6,
   "metadata": {},
   "outputs": [],
   "source": [
    "Xc=sm.add_constant(x)\n",
    "model=sm.OLS(y,Xc).fit()"
   ]
  },
  {
   "cell_type": "code",
   "execution_count": 7,
   "metadata": {},
   "outputs": [
    {
     "name": "stderr",
     "output_type": "stream",
     "text": [
      "C:\\Users\\ASUS\\anaconda3\\lib\\site-packages\\scipy\\stats\\stats.py:1603: UserWarning: kurtosistest only valid for n>=20 ... continuing anyway, n=17\n",
      "  warnings.warn(\"kurtosistest only valid for n>=20 ... continuing \"\n"
     ]
    },
    {
     "data": {
      "text/html": [
       "<table class=\"simpletable\">\n",
       "<caption>OLS Regression Results</caption>\n",
       "<tr>\n",
       "  <th>Dep. Variable:</th>    <td>Size_of_Purchase</td> <th>  R-squared:         </th> <td>   0.948</td>\n",
       "</tr>\n",
       "<tr>\n",
       "  <th>Model:</th>                   <td>OLS</td>       <th>  Adj. R-squared:    </th> <td>   0.931</td>\n",
       "</tr>\n",
       "<tr>\n",
       "  <th>Method:</th>             <td>Least Squares</td>  <th>  F-statistic:       </th> <td>   55.00</td>\n",
       "</tr>\n",
       "<tr>\n",
       "  <th>Date:</th>             <td>Mon, 25 Jan 2021</td> <th>  Prob (F-statistic):</th> <td>1.28e-07</td>\n",
       "</tr>\n",
       "<tr>\n",
       "  <th>Time:</th>                 <td>12:29:45</td>     <th>  Log-Likelihood:    </th> <td> -82.436</td>\n",
       "</tr>\n",
       "<tr>\n",
       "  <th>No. Observations:</th>      <td>    17</td>      <th>  AIC:               </th> <td>   174.9</td>\n",
       "</tr>\n",
       "<tr>\n",
       "  <th>Df Residuals:</th>          <td>    12</td>      <th>  BIC:               </th> <td>   179.0</td>\n",
       "</tr>\n",
       "<tr>\n",
       "  <th>Df Model:</th>              <td>     4</td>      <th>                     </th>     <td> </td>   \n",
       "</tr>\n",
       "<tr>\n",
       "  <th>Covariance Type:</th>      <td>nonrobust</td>    <th>                     </th>     <td> </td>   \n",
       "</tr>\n",
       "</table>\n",
       "<table class=\"simpletable\">\n",
       "<tr>\n",
       "          <td></td>             <th>coef</th>     <th>std err</th>      <th>t</th>      <th>P>|t|</th>  <th>[0.025</th>    <th>0.975]</th>  \n",
       "</tr>\n",
       "<tr>\n",
       "  <th>const</th>             <td>   -3.6686</td> <td>   30.107</td> <td>   -0.122</td> <td> 0.905</td> <td>  -69.266</td> <td>   61.929</td>\n",
       "</tr>\n",
       "<tr>\n",
       "  <th>Company_Size</th>      <td>    1.2687</td> <td>    0.200</td> <td>    6.355</td> <td> 0.000</td> <td>    0.834</td> <td>    1.704</td>\n",
       "</tr>\n",
       "<tr>\n",
       "  <th>%Imports</th>          <td>    0.0508</td> <td>    0.865</td> <td>    0.059</td> <td> 0.954</td> <td>   -1.834</td> <td>    1.936</td>\n",
       "</tr>\n",
       "<tr>\n",
       "  <th>Distance</th>          <td>   -0.2204</td> <td>    0.256</td> <td>   -0.860</td> <td> 0.407</td> <td>   -0.779</td> <td>    0.338</td>\n",
       "</tr>\n",
       "<tr>\n",
       "  <th>Central_Purchaser</th> <td>  127.3502</td> <td>   23.880</td> <td>    5.333</td> <td> 0.000</td> <td>   75.321</td> <td>  179.380</td>\n",
       "</tr>\n",
       "</table>\n",
       "<table class=\"simpletable\">\n",
       "<tr>\n",
       "  <th>Omnibus:</th>       <td> 2.223</td> <th>  Durbin-Watson:     </th> <td>   1.586</td>\n",
       "</tr>\n",
       "<tr>\n",
       "  <th>Prob(Omnibus):</th> <td> 0.329</td> <th>  Jarque-Bera (JB):  </th> <td>   1.588</td>\n",
       "</tr>\n",
       "<tr>\n",
       "  <th>Skew:</th>          <td>-0.727</td> <th>  Prob(JB):          </th> <td>   0.452</td>\n",
       "</tr>\n",
       "<tr>\n",
       "  <th>Kurtosis:</th>      <td> 2.640</td> <th>  Cond. No.          </th> <td>    542.</td>\n",
       "</tr>\n",
       "</table><br/><br/>Notes:<br/>[1] Standard Errors assume that the covariance matrix of the errors is correctly specified."
      ],
      "text/plain": [
       "<class 'statsmodels.iolib.summary.Summary'>\n",
       "\"\"\"\n",
       "                            OLS Regression Results                            \n",
       "==============================================================================\n",
       "Dep. Variable:       Size_of_Purchase   R-squared:                       0.948\n",
       "Model:                            OLS   Adj. R-squared:                  0.931\n",
       "Method:                 Least Squares   F-statistic:                     55.00\n",
       "Date:                Mon, 25 Jan 2021   Prob (F-statistic):           1.28e-07\n",
       "Time:                        12:29:45   Log-Likelihood:                -82.436\n",
       "No. Observations:                  17   AIC:                             174.9\n",
       "Df Residuals:                      12   BIC:                             179.0\n",
       "Df Model:                           4                                         \n",
       "Covariance Type:            nonrobust                                         \n",
       "=====================================================================================\n",
       "                        coef    std err          t      P>|t|      [0.025      0.975]\n",
       "-------------------------------------------------------------------------------------\n",
       "const                -3.6686     30.107     -0.122      0.905     -69.266      61.929\n",
       "Company_Size          1.2687      0.200      6.355      0.000       0.834       1.704\n",
       "%Imports              0.0508      0.865      0.059      0.954      -1.834       1.936\n",
       "Distance             -0.2204      0.256     -0.860      0.407      -0.779       0.338\n",
       "Central_Purchaser   127.3502     23.880      5.333      0.000      75.321     179.380\n",
       "==============================================================================\n",
       "Omnibus:                        2.223   Durbin-Watson:                   1.586\n",
       "Prob(Omnibus):                  0.329   Jarque-Bera (JB):                1.588\n",
       "Skew:                          -0.727   Prob(JB):                        0.452\n",
       "Kurtosis:                       2.640   Cond. No.                         542.\n",
       "==============================================================================\n",
       "\n",
       "Notes:\n",
       "[1] Standard Errors assume that the covariance matrix of the errors is correctly specified.\n",
       "\"\"\""
      ]
     },
     "execution_count": 7,
     "metadata": {},
     "output_type": "execute_result"
    }
   ],
   "source": [
    "model.summary()"
   ]
  },
  {
   "cell_type": "markdown",
   "metadata": {},
   "source": [
    "const.\n",
    "p>t = 0.905\n",
    "1. Ho: Constant = 0\n",
    "2. Ha: Constant != 0\n",
    "0.905 is the probability of getting |constant|>=-3.6686, when null hypothesis Ho is true. Hence this probability is greater than alpha (0.05), we will accept Ho.\n",
    "\n",
    "\n",
    "Company_Size\n",
    "const.\n",
    "p>t = 0.000\n",
    "1. Ho: b(Comany_Size) = 0\n",
    "2. Ha: b(Company_Size) != 0\n",
    "0.000 is the probability of getting |constant|>= 1.2687, when null hypothesis Ho is true. Hence this probability is less than alpha (0.05), we will reject Ho.\n",
    "\n",
    ".\n",
    ".\n",
    "."
   ]
  },
  {
   "cell_type": "markdown",
   "metadata": {},
   "source": [
    "#### Lets drop the insignificant columns"
   ]
  },
  {
   "cell_type": "code",
   "execution_count": 8,
   "metadata": {},
   "outputs": [],
   "source": [
    "y=df['Size_of_Purchase']\n",
    "x=df.drop(['Size_of_Purchase','Distance','%Imports'],axis=1)"
   ]
  },
  {
   "cell_type": "code",
   "execution_count": 9,
   "metadata": {},
   "outputs": [],
   "source": [
    "Xc=sm.add_constant(x)"
   ]
  },
  {
   "cell_type": "code",
   "execution_count": 10,
   "metadata": {},
   "outputs": [],
   "source": [
    "model=sm.OLS(y,Xc).fit()"
   ]
  },
  {
   "cell_type": "code",
   "execution_count": 11,
   "metadata": {},
   "outputs": [
    {
     "name": "stderr",
     "output_type": "stream",
     "text": [
      "C:\\Users\\ASUS\\anaconda3\\lib\\site-packages\\scipy\\stats\\stats.py:1603: UserWarning: kurtosistest only valid for n>=20 ... continuing anyway, n=17\n",
      "  warnings.warn(\"kurtosistest only valid for n>=20 ... continuing \"\n"
     ]
    },
    {
     "data": {
      "text/html": [
       "<table class=\"simpletable\">\n",
       "<caption>OLS Regression Results</caption>\n",
       "<tr>\n",
       "  <th>Dep. Variable:</th>    <td>Size_of_Purchase</td> <th>  R-squared:         </th> <td>   0.942</td>\n",
       "</tr>\n",
       "<tr>\n",
       "  <th>Model:</th>                   <td>OLS</td>       <th>  Adj. R-squared:    </th> <td>   0.934</td>\n",
       "</tr>\n",
       "<tr>\n",
       "  <th>Method:</th>             <td>Least Squares</td>  <th>  F-statistic:       </th> <td>   114.7</td>\n",
       "</tr>\n",
       "<tr>\n",
       "  <th>Date:</th>             <td>Mon, 25 Jan 2021</td> <th>  Prob (F-statistic):</th> <td>2.09e-09</td>\n",
       "</tr>\n",
       "<tr>\n",
       "  <th>Time:</th>                 <td>13:41:47</td>     <th>  Log-Likelihood:    </th> <td> -83.341</td>\n",
       "</tr>\n",
       "<tr>\n",
       "  <th>No. Observations:</th>      <td>    17</td>      <th>  AIC:               </th> <td>   172.7</td>\n",
       "</tr>\n",
       "<tr>\n",
       "  <th>Df Residuals:</th>          <td>    14</td>      <th>  BIC:               </th> <td>   175.2</td>\n",
       "</tr>\n",
       "<tr>\n",
       "  <th>Df Model:</th>              <td>     2</td>      <th>                     </th>     <td> </td>   \n",
       "</tr>\n",
       "<tr>\n",
       "  <th>Covariance Type:</th>      <td>nonrobust</td>    <th>                     </th>     <td> </td>   \n",
       "</tr>\n",
       "</table>\n",
       "<table class=\"simpletable\">\n",
       "<tr>\n",
       "          <td></td>             <th>coef</th>     <th>std err</th>      <th>t</th>      <th>P>|t|</th>  <th>[0.025</th>    <th>0.975]</th>  \n",
       "</tr>\n",
       "<tr>\n",
       "  <th>const</th>             <td>   -8.5394</td> <td>   15.758</td> <td>   -0.542</td> <td> 0.596</td> <td>  -42.338</td> <td>   25.259</td>\n",
       "</tr>\n",
       "<tr>\n",
       "  <th>Company_Size</th>      <td>    1.1961</td> <td>    0.146</td> <td>    8.182</td> <td> 0.000</td> <td>    0.883</td> <td>    1.510</td>\n",
       "</tr>\n",
       "<tr>\n",
       "  <th>Central_Purchaser</th> <td>  126.9089</td> <td>   21.396</td> <td>    5.931</td> <td> 0.000</td> <td>   81.019</td> <td>  172.799</td>\n",
       "</tr>\n",
       "</table>\n",
       "<table class=\"simpletable\">\n",
       "<tr>\n",
       "  <th>Omnibus:</th>       <td> 2.894</td> <th>  Durbin-Watson:     </th> <td>   1.423</td>\n",
       "</tr>\n",
       "<tr>\n",
       "  <th>Prob(Omnibus):</th> <td> 0.235</td> <th>  Jarque-Bera (JB):  </th> <td>   2.284</td>\n",
       "</tr>\n",
       "<tr>\n",
       "  <th>Skew:</th>          <td>-0.830</td> <th>  Prob(JB):          </th> <td>   0.319</td>\n",
       "</tr>\n",
       "<tr>\n",
       "  <th>Kurtosis:</th>      <td> 2.318</td> <th>  Cond. No.          </th> <td>    320.</td>\n",
       "</tr>\n",
       "</table><br/><br/>Notes:<br/>[1] Standard Errors assume that the covariance matrix of the errors is correctly specified."
      ],
      "text/plain": [
       "<class 'statsmodels.iolib.summary.Summary'>\n",
       "\"\"\"\n",
       "                            OLS Regression Results                            \n",
       "==============================================================================\n",
       "Dep. Variable:       Size_of_Purchase   R-squared:                       0.942\n",
       "Model:                            OLS   Adj. R-squared:                  0.934\n",
       "Method:                 Least Squares   F-statistic:                     114.7\n",
       "Date:                Mon, 25 Jan 2021   Prob (F-statistic):           2.09e-09\n",
       "Time:                        13:41:47   Log-Likelihood:                -83.341\n",
       "No. Observations:                  17   AIC:                             172.7\n",
       "Df Residuals:                      14   BIC:                             175.2\n",
       "Df Model:                           2                                         \n",
       "Covariance Type:            nonrobust                                         \n",
       "=====================================================================================\n",
       "                        coef    std err          t      P>|t|      [0.025      0.975]\n",
       "-------------------------------------------------------------------------------------\n",
       "const                -8.5394     15.758     -0.542      0.596     -42.338      25.259\n",
       "Company_Size          1.1961      0.146      8.182      0.000       0.883       1.510\n",
       "Central_Purchaser   126.9089     21.396      5.931      0.000      81.019     172.799\n",
       "==============================================================================\n",
       "Omnibus:                        2.894   Durbin-Watson:                   1.423\n",
       "Prob(Omnibus):                  0.235   Jarque-Bera (JB):                2.284\n",
       "Skew:                          -0.830   Prob(JB):                        0.319\n",
       "Kurtosis:                       2.318   Cond. No.                         320.\n",
       "==============================================================================\n",
       "\n",
       "Notes:\n",
       "[1] Standard Errors assume that the covariance matrix of the errors is correctly specified.\n",
       "\"\"\""
      ]
     },
     "execution_count": 11,
     "metadata": {},
     "output_type": "execute_result"
    }
   ],
   "source": [
    "model.summary()"
   ]
  },
  {
   "cell_type": "raw",
   "metadata": {},
   "source": [
    "Size_of_Purchase= -8.5394 + 1.1961*Company_Size + 126.9089*Central_Purchaser"
   ]
  },
  {
   "cell_type": "code",
   "execution_count": null,
   "metadata": {},
   "outputs": [],
   "source": []
  },
  {
   "cell_type": "code",
   "execution_count": null,
   "metadata": {},
   "outputs": [],
   "source": []
  },
  {
   "cell_type": "code",
   "execution_count": null,
   "metadata": {},
   "outputs": [],
   "source": []
  }
 ],
 "metadata": {
  "kernelspec": {
   "display_name": "Python 3",
   "language": "python",
   "name": "python3"
  },
  "language_info": {
   "codemirror_mode": {
    "name": "ipython",
    "version": 3
   },
   "file_extension": ".py",
   "mimetype": "text/x-python",
   "name": "python",
   "nbconvert_exporter": "python",
   "pygments_lexer": "ipython3",
   "version": "3.8.5"
  }
 },
 "nbformat": 4,
 "nbformat_minor": 4
}
