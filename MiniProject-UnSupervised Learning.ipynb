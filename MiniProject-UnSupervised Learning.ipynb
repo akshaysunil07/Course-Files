{
 "cells": [
  {
   "cell_type": "code",
   "execution_count": 2,
   "metadata": {
    "id": "ChGpWTuc1RKv"
   },
   "outputs": [],
   "source": [
    "import pandas as pd\n",
    "import numpy as np\n",
    "import seaborn as sns\n",
    "import matplotlib.pyplot as plt"
   ]
  },
  {
   "cell_type": "code",
   "execution_count": 4,
   "metadata": {
    "colab": {
     "base_uri": "https://localhost:8080/"
    },
    "id": "Gm8JBYqD5gGd",
    "outputId": "6a259e11-79ea-4c43-82d2-62ad75a37701"
   },
   "outputs": [
    {
     "name": "stdout",
     "output_type": "stream",
     "text": [
      "(12330, 18)\n"
     ]
    }
   ],
   "source": [
    "df= pd.read_csv('online_shoppers_intention.csv')\n",
    "print(df.shape)"
   ]
  },
  {
   "cell_type": "code",
   "execution_count": 5,
   "metadata": {
    "colab": {
     "base_uri": "https://localhost:8080/"
    },
    "id": "ZwHdwBri5gJQ",
    "outputId": "e1977790-3b17-4a7a-bd30-e0b2a7f84519"
   },
   "outputs": [
    {
     "data": {
      "text/plain": [
       "Administrative             0\n",
       "Administrative_Duration    0\n",
       "Informational              0\n",
       "Informational_Duration     0\n",
       "ProductRelated             0\n",
       "ProductRelated_Duration    0\n",
       "BounceRates                0\n",
       "ExitRates                  0\n",
       "PageValues                 0\n",
       "SpecialDay                 0\n",
       "Month                      0\n",
       "OperatingSystems           0\n",
       "Browser                    0\n",
       "Region                     0\n",
       "TrafficType                0\n",
       "VisitorType                0\n",
       "Weekend                    0\n",
       "Revenue                    0\n",
       "dtype: int64"
      ]
     },
     "execution_count": 5,
     "metadata": {},
     "output_type": "execute_result"
    }
   ],
   "source": [
    "df.isnull().sum()"
   ]
  },
  {
   "cell_type": "code",
   "execution_count": 6,
   "metadata": {
    "colab": {
     "base_uri": "https://localhost:8080/",
     "height": 217
    },
    "id": "-jXgMigt5gMB",
    "outputId": "f7b62a9a-5719-42ae-dce4-82732758059c"
   },
   "outputs": [
    {
     "data": {
      "text/html": [
       "<div>\n",
       "<style scoped>\n",
       "    .dataframe tbody tr th:only-of-type {\n",
       "        vertical-align: middle;\n",
       "    }\n",
       "\n",
       "    .dataframe tbody tr th {\n",
       "        vertical-align: top;\n",
       "    }\n",
       "\n",
       "    .dataframe thead th {\n",
       "        text-align: right;\n",
       "    }\n",
       "</style>\n",
       "<table border=\"1\" class=\"dataframe\">\n",
       "  <thead>\n",
       "    <tr style=\"text-align: right;\">\n",
       "      <th></th>\n",
       "      <th>Administrative</th>\n",
       "      <th>Administrative_Duration</th>\n",
       "      <th>Informational</th>\n",
       "      <th>Informational_Duration</th>\n",
       "      <th>ProductRelated</th>\n",
       "      <th>ProductRelated_Duration</th>\n",
       "      <th>BounceRates</th>\n",
       "      <th>ExitRates</th>\n",
       "      <th>PageValues</th>\n",
       "      <th>SpecialDay</th>\n",
       "      <th>Month</th>\n",
       "      <th>OperatingSystems</th>\n",
       "      <th>Browser</th>\n",
       "      <th>Region</th>\n",
       "      <th>TrafficType</th>\n",
       "      <th>VisitorType</th>\n",
       "      <th>Weekend</th>\n",
       "      <th>Revenue</th>\n",
       "    </tr>\n",
       "  </thead>\n",
       "  <tbody>\n",
       "    <tr>\n",
       "      <th>0</th>\n",
       "      <td>0</td>\n",
       "      <td>0.0</td>\n",
       "      <td>0</td>\n",
       "      <td>0.0</td>\n",
       "      <td>1</td>\n",
       "      <td>0.000000</td>\n",
       "      <td>0.20</td>\n",
       "      <td>0.20</td>\n",
       "      <td>0.0</td>\n",
       "      <td>0.0</td>\n",
       "      <td>Feb</td>\n",
       "      <td>1</td>\n",
       "      <td>1</td>\n",
       "      <td>1</td>\n",
       "      <td>1</td>\n",
       "      <td>Returning_Visitor</td>\n",
       "      <td>False</td>\n",
       "      <td>False</td>\n",
       "    </tr>\n",
       "    <tr>\n",
       "      <th>1</th>\n",
       "      <td>0</td>\n",
       "      <td>0.0</td>\n",
       "      <td>0</td>\n",
       "      <td>0.0</td>\n",
       "      <td>2</td>\n",
       "      <td>64.000000</td>\n",
       "      <td>0.00</td>\n",
       "      <td>0.10</td>\n",
       "      <td>0.0</td>\n",
       "      <td>0.0</td>\n",
       "      <td>Feb</td>\n",
       "      <td>2</td>\n",
       "      <td>2</td>\n",
       "      <td>1</td>\n",
       "      <td>2</td>\n",
       "      <td>Returning_Visitor</td>\n",
       "      <td>False</td>\n",
       "      <td>False</td>\n",
       "    </tr>\n",
       "    <tr>\n",
       "      <th>2</th>\n",
       "      <td>0</td>\n",
       "      <td>0.0</td>\n",
       "      <td>0</td>\n",
       "      <td>0.0</td>\n",
       "      <td>1</td>\n",
       "      <td>0.000000</td>\n",
       "      <td>0.20</td>\n",
       "      <td>0.20</td>\n",
       "      <td>0.0</td>\n",
       "      <td>0.0</td>\n",
       "      <td>Feb</td>\n",
       "      <td>4</td>\n",
       "      <td>1</td>\n",
       "      <td>9</td>\n",
       "      <td>3</td>\n",
       "      <td>Returning_Visitor</td>\n",
       "      <td>False</td>\n",
       "      <td>False</td>\n",
       "    </tr>\n",
       "    <tr>\n",
       "      <th>3</th>\n",
       "      <td>0</td>\n",
       "      <td>0.0</td>\n",
       "      <td>0</td>\n",
       "      <td>0.0</td>\n",
       "      <td>2</td>\n",
       "      <td>2.666667</td>\n",
       "      <td>0.05</td>\n",
       "      <td>0.14</td>\n",
       "      <td>0.0</td>\n",
       "      <td>0.0</td>\n",
       "      <td>Feb</td>\n",
       "      <td>3</td>\n",
       "      <td>2</td>\n",
       "      <td>2</td>\n",
       "      <td>4</td>\n",
       "      <td>Returning_Visitor</td>\n",
       "      <td>False</td>\n",
       "      <td>False</td>\n",
       "    </tr>\n",
       "    <tr>\n",
       "      <th>4</th>\n",
       "      <td>0</td>\n",
       "      <td>0.0</td>\n",
       "      <td>0</td>\n",
       "      <td>0.0</td>\n",
       "      <td>10</td>\n",
       "      <td>627.500000</td>\n",
       "      <td>0.02</td>\n",
       "      <td>0.05</td>\n",
       "      <td>0.0</td>\n",
       "      <td>0.0</td>\n",
       "      <td>Feb</td>\n",
       "      <td>3</td>\n",
       "      <td>3</td>\n",
       "      <td>1</td>\n",
       "      <td>4</td>\n",
       "      <td>Returning_Visitor</td>\n",
       "      <td>True</td>\n",
       "      <td>False</td>\n",
       "    </tr>\n",
       "  </tbody>\n",
       "</table>\n",
       "</div>"
      ],
      "text/plain": [
       "   Administrative  Administrative_Duration  Informational  \\\n",
       "0               0                      0.0              0   \n",
       "1               0                      0.0              0   \n",
       "2               0                      0.0              0   \n",
       "3               0                      0.0              0   \n",
       "4               0                      0.0              0   \n",
       "\n",
       "   Informational_Duration  ProductRelated  ProductRelated_Duration  \\\n",
       "0                     0.0               1                 0.000000   \n",
       "1                     0.0               2                64.000000   \n",
       "2                     0.0               1                 0.000000   \n",
       "3                     0.0               2                 2.666667   \n",
       "4                     0.0              10               627.500000   \n",
       "\n",
       "   BounceRates  ExitRates  PageValues  SpecialDay Month  OperatingSystems  \\\n",
       "0         0.20       0.20         0.0         0.0   Feb                 1   \n",
       "1         0.00       0.10         0.0         0.0   Feb                 2   \n",
       "2         0.20       0.20         0.0         0.0   Feb                 4   \n",
       "3         0.05       0.14         0.0         0.0   Feb                 3   \n",
       "4         0.02       0.05         0.0         0.0   Feb                 3   \n",
       "\n",
       "   Browser  Region  TrafficType        VisitorType  Weekend  Revenue  \n",
       "0        1       1            1  Returning_Visitor    False    False  \n",
       "1        2       1            2  Returning_Visitor    False    False  \n",
       "2        1       9            3  Returning_Visitor    False    False  \n",
       "3        2       2            4  Returning_Visitor    False    False  \n",
       "4        3       1            4  Returning_Visitor     True    False  "
      ]
     },
     "execution_count": 6,
     "metadata": {},
     "output_type": "execute_result"
    }
   ],
   "source": [
    "df.head()"
   ]
  },
  {
   "cell_type": "code",
   "execution_count": 8,
   "metadata": {
    "colab": {
     "base_uri": "https://localhost:8080/",
     "height": 402
    },
    "id": "wPKu44ox5gO9",
    "outputId": "6d00fa55-449a-478b-a5b9-8342b6673187"
   },
   "outputs": [
    {
     "data": {
      "image/png": "[encoded data removed]",
      "text/plain": [
       "<Figure size 1008x864 with 2 Axes>"
      ]
     },
     "metadata": {
      "needs_background": "light"
     },
     "output_type": "display_data"
    }
   ],
   "source": [
    "plt.figure(figsize=(14,12))\n",
    "sns.heatmap(df.corr(),annot=True)\n",
    "plt.show()"
   ]
  },
  {
   "cell_type": "code",
   "execution_count": 9,
   "metadata": {
    "id": "OZT7sXm75gZ_"
   },
   "outputs": [],
   "source": [
    "df1= df.iloc[:,:15]"
   ]
  },
  {
   "cell_type": "code",
   "execution_count": 10,
   "metadata": {
    "id": "sREEc4IcJmak"
   },
   "outputs": [],
   "source": [
    "mm= df1['Month']\n",
    "df1.drop({'Month'}, axis=1, inplace=True)"
   ]
  },
  {
   "cell_type": "code",
   "execution_count": 11,
   "metadata": {
    "id": "2ozE5zQiKGky"
   },
   "outputs": [],
   "source": [
    "col= df1.columns"
   ]
  },
  {
   "cell_type": "code",
   "execution_count": 12,
   "metadata": {
    "id": "ejldgNd25gcg"
   },
   "outputs": [],
   "source": [
    "from sklearn.preprocessing import PowerTransformer\n",
    "pt= PowerTransformer()"
   ]
  },
  {
   "cell_type": "code",
   "execution_count": 13,
   "metadata": {
    "id": "BqZPFHet5gfo"
   },
   "outputs": [],
   "source": [
    "df1 = pt.fit_transform(df1)"
   ]
  },
  {
   "cell_type": "code",
   "execution_count": 14,
   "metadata": {
    "id": "aWy0YsQo5gix"
   },
   "outputs": [],
   "source": [
    "df1= pd.DataFrame(df1,columns=col)"
   ]
  },
  {
   "cell_type": "code",
   "execution_count": 15,
   "metadata": {
    "colab": {
     "base_uri": "https://localhost:8080/",
     "height": 217
    },
    "id": "sMtsy1lW5gqB",
    "outputId": "985c284c-b8c6-4395-9361-126cb42d5f9d"
   },
   "outputs": [
    {
     "data": {
      "text/html": [
       "<div>\n",
       "<style scoped>\n",
       "    .dataframe tbody tr th:only-of-type {\n",
       "        vertical-align: middle;\n",
       "    }\n",
       "\n",
       "    .dataframe tbody tr th {\n",
       "        vertical-align: top;\n",
       "    }\n",
       "\n",
       "    .dataframe thead th {\n",
       "        text-align: right;\n",
       "    }\n",
       "</style>\n",
       "<table border=\"1\" class=\"dataframe\">\n",
       "  <thead>\n",
       "    <tr style=\"text-align: right;\">\n",
       "      <th></th>\n",
       "      <th>Administrative</th>\n",
       "      <th>Administrative_Duration</th>\n",
       "      <th>Informational</th>\n",
       "      <th>Informational_Duration</th>\n",
       "      <th>ProductRelated</th>\n",
       "      <th>ProductRelated_Duration</th>\n",
       "      <th>BounceRates</th>\n",
       "      <th>ExitRates</th>\n",
       "      <th>PageValues</th>\n",
       "      <th>SpecialDay</th>\n",
       "      <th>OperatingSystems</th>\n",
       "      <th>Browser</th>\n",
       "      <th>Region</th>\n",
       "      <th>TrafficType</th>\n",
       "    </tr>\n",
       "  </thead>\n",
       "  <tbody>\n",
       "    <tr>\n",
       "      <th>0</th>\n",
       "      <td>-0.990128</td>\n",
       "      <td>-0.996659</td>\n",
       "      <td>-0.520489</td>\n",
       "      <td>-0.491697</td>\n",
       "      <td>-1.922123</td>\n",
       "      <td>-2.096783</td>\n",
       "      <td>2.206432</td>\n",
       "      <td>1.982547</td>\n",
       "      <td>-0.529409</td>\n",
       "      <td>-0.33602</td>\n",
       "      <td>-1.594583</td>\n",
       "      <td>-1.630444</td>\n",
       "      <td>-1.116671</td>\n",
       "      <td>-1.458641</td>\n",
       "    </tr>\n",
       "    <tr>\n",
       "      <th>1</th>\n",
       "      <td>-0.990128</td>\n",
       "      <td>-0.996659</td>\n",
       "      <td>-0.520489</td>\n",
       "      <td>-0.491697</td>\n",
       "      <td>-1.574524</td>\n",
       "      <td>-1.074189</td>\n",
       "      <td>-0.799209</td>\n",
       "      <td>1.569866</td>\n",
       "      <td>-0.529409</td>\n",
       "      <td>-0.33602</td>\n",
       "      <td>0.023949</td>\n",
       "      <td>0.100778</td>\n",
       "      <td>-1.116671</td>\n",
       "      <td>-0.386728</td>\n",
       "    </tr>\n",
       "    <tr>\n",
       "      <th>2</th>\n",
       "      <td>-0.990128</td>\n",
       "      <td>-0.996659</td>\n",
       "      <td>-0.520489</td>\n",
       "      <td>-0.491697</td>\n",
       "      <td>-1.922123</td>\n",
       "      <td>-2.096783</td>\n",
       "      <td>2.206432</td>\n",
       "      <td>1.982547</td>\n",
       "      <td>-0.529409</td>\n",
       "      <td>-0.33602</td>\n",
       "      <td>1.816290</td>\n",
       "      <td>-1.630444</td>\n",
       "      <td>1.658089</td>\n",
       "      <td>0.199041</td>\n",
       "    </tr>\n",
       "    <tr>\n",
       "      <th>3</th>\n",
       "      <td>-0.990128</td>\n",
       "      <td>-0.996659</td>\n",
       "      <td>-0.520489</td>\n",
       "      <td>-0.491697</td>\n",
       "      <td>-1.574524</td>\n",
       "      <td>-1.875436</td>\n",
       "      <td>1.709303</td>\n",
       "      <td>1.832073</td>\n",
       "      <td>-0.529409</td>\n",
       "      <td>-0.33602</td>\n",
       "      <td>1.065020</td>\n",
       "      <td>0.100778</td>\n",
       "      <td>-0.199574</td>\n",
       "      <td>0.574105</td>\n",
       "    </tr>\n",
       "    <tr>\n",
       "      <th>4</th>\n",
       "      <td>-0.990128</td>\n",
       "      <td>-0.996659</td>\n",
       "      <td>-0.520489</td>\n",
       "      <td>-0.491697</td>\n",
       "      <td>-0.442610</td>\n",
       "      <td>0.057515</td>\n",
       "      <td>0.756734</td>\n",
       "      <td>0.722460</td>\n",
       "      <td>-0.529409</td>\n",
       "      <td>-0.33602</td>\n",
       "      <td>1.065020</td>\n",
       "      <td>0.918635</td>\n",
       "      <td>-1.116671</td>\n",
       "      <td>0.574105</td>\n",
       "    </tr>\n",
       "  </tbody>\n",
       "</table>\n",
       "</div>"
      ],
      "text/plain": [
       "   Administrative  Administrative_Duration  Informational  \\\n",
       "0       -0.990128                -0.996659      -0.520489   \n",
       "1       -0.990128                -0.996659      -0.520489   \n",
       "2       -0.990128                -0.996659      -0.520489   \n",
       "3       -0.990128                -0.996659      -0.520489   \n",
       "4       -0.990128                -0.996659      -0.520489   \n",
       "\n",
       "   Informational_Duration  ProductRelated  ProductRelated_Duration  \\\n",
       "0               -0.491697       -1.922123                -2.096783   \n",
       "1               -0.491697       -1.574524                -1.074189   \n",
       "2               -0.491697       -1.922123                -2.096783   \n",
       "3               -0.491697       -1.574524                -1.875436   \n",
       "4               -0.491697       -0.442610                 0.057515   \n",
       "\n",
       "   BounceRates  ExitRates  PageValues  SpecialDay  OperatingSystems   Browser  \\\n",
       "0     2.206432   1.982547   -0.529409    -0.33602         -1.594583 -1.630444   \n",
       "1    -0.799209   1.569866   -0.529409    -0.33602          0.023949  0.100778   \n",
       "2     2.206432   1.982547   -0.529409    -0.33602          1.816290 -1.630444   \n",
       "3     1.709303   1.832073   -0.529409    -0.33602          1.065020  0.100778   \n",
       "4     0.756734   0.722460   -0.529409    -0.33602          1.065020  0.918635   \n",
       "\n",
       "     Region  TrafficType  \n",
       "0 -1.116671    -1.458641  \n",
       "1 -1.116671    -0.386728  \n",
       "2  1.658089     0.199041  \n",
       "3 -0.199574     0.574105  \n",
       "4 -1.116671     0.574105  "
      ]
     },
     "execution_count": 15,
     "metadata": {},
     "output_type": "execute_result"
    }
   ],
   "source": [
    "df1.head()"
   ]
  },
  {
   "cell_type": "code",
   "execution_count": 16,
   "metadata": {
    "colab": {
     "base_uri": "https://localhost:8080/",
     "height": 197
    },
    "id": "pxxnXRjt5gta",
    "outputId": "16df223f-b509-47d9-92b6-112b83fd00f1"
   },
   "outputs": [
    {
     "data": {
      "text/html": [
       "<div>\n",
       "<style scoped>\n",
       "    .dataframe tbody tr th:only-of-type {\n",
       "        vertical-align: middle;\n",
       "    }\n",
       "\n",
       "    .dataframe tbody tr th {\n",
       "        vertical-align: top;\n",
       "    }\n",
       "\n",
       "    .dataframe thead th {\n",
       "        text-align: right;\n",
       "    }\n",
       "</style>\n",
       "<table border=\"1\" class=\"dataframe\">\n",
       "  <thead>\n",
       "    <tr style=\"text-align: right;\">\n",
       "      <th></th>\n",
       "      <th>Month</th>\n",
       "      <th>VisitorType</th>\n",
       "      <th>Weekend</th>\n",
       "      <th>Revenue</th>\n",
       "    </tr>\n",
       "  </thead>\n",
       "  <tbody>\n",
       "    <tr>\n",
       "      <th>0</th>\n",
       "      <td>Feb</td>\n",
       "      <td>Returning_Visitor</td>\n",
       "      <td>False</td>\n",
       "      <td>False</td>\n",
       "    </tr>\n",
       "    <tr>\n",
       "      <th>1</th>\n",
       "      <td>Feb</td>\n",
       "      <td>Returning_Visitor</td>\n",
       "      <td>False</td>\n",
       "      <td>False</td>\n",
       "    </tr>\n",
       "    <tr>\n",
       "      <th>2</th>\n",
       "      <td>Feb</td>\n",
       "      <td>Returning_Visitor</td>\n",
       "      <td>False</td>\n",
       "      <td>False</td>\n",
       "    </tr>\n",
       "    <tr>\n",
       "      <th>3</th>\n",
       "      <td>Feb</td>\n",
       "      <td>Returning_Visitor</td>\n",
       "      <td>False</td>\n",
       "      <td>False</td>\n",
       "    </tr>\n",
       "    <tr>\n",
       "      <th>4</th>\n",
       "      <td>Feb</td>\n",
       "      <td>Returning_Visitor</td>\n",
       "      <td>True</td>\n",
       "      <td>False</td>\n",
       "    </tr>\n",
       "  </tbody>\n",
       "</table>\n",
       "</div>"
      ],
      "text/plain": [
       "  Month        VisitorType  Weekend  Revenue\n",
       "0   Feb  Returning_Visitor    False    False\n",
       "1   Feb  Returning_Visitor    False    False\n",
       "2   Feb  Returning_Visitor    False    False\n",
       "3   Feb  Returning_Visitor    False    False\n",
       "4   Feb  Returning_Visitor     True    False"
      ]
     },
     "execution_count": 16,
     "metadata": {},
     "output_type": "execute_result"
    }
   ],
   "source": [
    "dfr= df[['Month', 'VisitorType', 'Weekend', 'Revenue']]\n",
    "dfr.head()"
   ]
  },
  {
   "cell_type": "code",
   "execution_count": 17,
   "metadata": {
    "id": "SURzvwaU5gzD"
   },
   "outputs": [],
   "source": [
    "from sklearn.preprocessing import LabelEncoder"
   ]
  },
  {
   "cell_type": "code",
   "execution_count": 19,
   "metadata": {
    "colab": {
     "base_uri": "https://localhost:8080/"
    },
    "id": "wDAlHVKN5g2Z",
    "outputId": "709abcbb-67c6-4966-a388-f74f19851608"
   },
   "outputs": [
    {
     "name": "stderr",
     "output_type": "stream",
     "text": [
      "<ipython-input-19-b91f283a0db4>:2: SettingWithCopyWarning: \n",
      "A value is trying to be set on a copy of a slice from a DataFrame.\n",
      "Try using .loc[row_indexer,col_indexer] = value instead\n",
      "\n",
      "See the caveats in the documentation: https://pandas.pydata.org/pandas-docs/stable/user_guide/indexing.html#returning-a-view-versus-a-copy\n",
      "  dfr[i] = LabelEncoder().fit_transform(dfr[i])\n"
     ]
    }
   ],
   "source": [
    "for i in dfr.columns:\n",
    "    dfr[i] = LabelEncoder().fit_transform(dfr[i])"
   ]
  },
  {
   "cell_type": "code",
   "execution_count": 20,
   "metadata": {
    "colab": {
     "base_uri": "https://localhost:8080/",
     "height": 197
    },
    "id": "d9310c8C5g5A",
    "outputId": "8e0b6d90-5a55-4f4f-ae21-44f72c708ccc"
   },
   "outputs": [
    {
     "data": {
      "text/html": [
       "<div>\n",
       "<style scoped>\n",
       "    .dataframe tbody tr th:only-of-type {\n",
       "        vertical-align: middle;\n",
       "    }\n",
       "\n",
       "    .dataframe tbody tr th {\n",
       "        vertical-align: top;\n",
       "    }\n",
       "\n",
       "    .dataframe thead th {\n",
       "        text-align: right;\n",
       "    }\n",
       "</style>\n",
       "<table border=\"1\" class=\"dataframe\">\n",
       "  <thead>\n",
       "    <tr style=\"text-align: right;\">\n",
       "      <th></th>\n",
       "      <th>Month</th>\n",
       "      <th>VisitorType</th>\n",
       "      <th>Weekend</th>\n",
       "      <th>Revenue</th>\n",
       "    </tr>\n",
       "  </thead>\n",
       "  <tbody>\n",
       "    <tr>\n",
       "      <th>0</th>\n",
       "      <td>2</td>\n",
       "      <td>2</td>\n",
       "      <td>0</td>\n",
       "      <td>0</td>\n",
       "    </tr>\n",
       "    <tr>\n",
       "      <th>1</th>\n",
       "      <td>2</td>\n",
       "      <td>2</td>\n",
       "      <td>0</td>\n",
       "      <td>0</td>\n",
       "    </tr>\n",
       "    <tr>\n",
       "      <th>2</th>\n",
       "      <td>2</td>\n",
       "      <td>2</td>\n",
       "      <td>0</td>\n",
       "      <td>0</td>\n",
       "    </tr>\n",
       "    <tr>\n",
       "      <th>3</th>\n",
       "      <td>2</td>\n",
       "      <td>2</td>\n",
       "      <td>0</td>\n",
       "      <td>0</td>\n",
       "    </tr>\n",
       "    <tr>\n",
       "      <th>4</th>\n",
       "      <td>2</td>\n",
       "      <td>2</td>\n",
       "      <td>1</td>\n",
       "      <td>0</td>\n",
       "    </tr>\n",
       "  </tbody>\n",
       "</table>\n",
       "</div>"
      ],
      "text/plain": [
       "   Month  VisitorType  Weekend  Revenue\n",
       "0      2            2        0        0\n",
       "1      2            2        0        0\n",
       "2      2            2        0        0\n",
       "3      2            2        0        0\n",
       "4      2            2        1        0"
      ]
     },
     "execution_count": 20,
     "metadata": {},
     "output_type": "execute_result"
    }
   ],
   "source": [
    "dfr.head()"
   ]
  },
  {
   "cell_type": "code",
   "execution_count": 21,
   "metadata": {
    "id": "yNPo1qrA5g7u"
   },
   "outputs": [],
   "source": [
    "df1= df1.join(dfr)"
   ]
  },
  {
   "cell_type": "code",
   "execution_count": 22,
   "metadata": {
    "colab": {
     "base_uri": "https://localhost:8080/",
     "height": 217
    },
    "id": "r7C2-dhs5g-t",
    "outputId": "42154fc3-a792-40a6-c18f-ebd77cfd492e"
   },
   "outputs": [
    {
     "data": {
      "text/html": [
       "<div>\n",
       "<style scoped>\n",
       "    .dataframe tbody tr th:only-of-type {\n",
       "        vertical-align: middle;\n",
       "    }\n",
       "\n",
       "    .dataframe tbody tr th {\n",
       "        vertical-align: top;\n",
       "    }\n",
       "\n",
       "    .dataframe thead th {\n",
       "        text-align: right;\n",
       "    }\n",
       "</style>\n",
       "<table border=\"1\" class=\"dataframe\">\n",
       "  <thead>\n",
       "    <tr style=\"text-align: right;\">\n",
       "      <th></th>\n",
       "      <th>Administrative</th>\n",
       "      <th>Administrative_Duration</th>\n",
       "      <th>Informational</th>\n",
       "      <th>Informational_Duration</th>\n",
       "      <th>ProductRelated</th>\n",
       "      <th>ProductRelated_Duration</th>\n",
       "      <th>BounceRates</th>\n",
       "      <th>ExitRates</th>\n",
       "      <th>PageValues</th>\n",
       "      <th>SpecialDay</th>\n",
       "      <th>OperatingSystems</th>\n",
       "      <th>Browser</th>\n",
       "      <th>Region</th>\n",
       "      <th>TrafficType</th>\n",
       "      <th>Month</th>\n",
       "      <th>VisitorType</th>\n",
       "      <th>Weekend</th>\n",
       "      <th>Revenue</th>\n",
       "    </tr>\n",
       "  </thead>\n",
       "  <tbody>\n",
       "    <tr>\n",
       "      <th>0</th>\n",
       "      <td>-0.990128</td>\n",
       "      <td>-0.996659</td>\n",
       "      <td>-0.520489</td>\n",
       "      <td>-0.491697</td>\n",
       "      <td>-1.922123</td>\n",
       "      <td>-2.096783</td>\n",
       "      <td>2.206432</td>\n",
       "      <td>1.982547</td>\n",
       "      <td>-0.529409</td>\n",
       "      <td>-0.33602</td>\n",
       "      <td>-1.594583</td>\n",
       "      <td>-1.630444</td>\n",
       "      <td>-1.116671</td>\n",
       "      <td>-1.458641</td>\n",
       "      <td>2</td>\n",
       "      <td>2</td>\n",
       "      <td>0</td>\n",
       "      <td>0</td>\n",
       "    </tr>\n",
       "    <tr>\n",
       "      <th>1</th>\n",
       "      <td>-0.990128</td>\n",
       "      <td>-0.996659</td>\n",
       "      <td>-0.520489</td>\n",
       "      <td>-0.491697</td>\n",
       "      <td>-1.574524</td>\n",
       "      <td>-1.074189</td>\n",
       "      <td>-0.799209</td>\n",
       "      <td>1.569866</td>\n",
       "      <td>-0.529409</td>\n",
       "      <td>-0.33602</td>\n",
       "      <td>0.023949</td>\n",
       "      <td>0.100778</td>\n",
       "      <td>-1.116671</td>\n",
       "      <td>-0.386728</td>\n",
       "      <td>2</td>\n",
       "      <td>2</td>\n",
       "      <td>0</td>\n",
       "      <td>0</td>\n",
       "    </tr>\n",
       "    <tr>\n",
       "      <th>2</th>\n",
       "      <td>-0.990128</td>\n",
       "      <td>-0.996659</td>\n",
       "      <td>-0.520489</td>\n",
       "      <td>-0.491697</td>\n",
       "      <td>-1.922123</td>\n",
       "      <td>-2.096783</td>\n",
       "      <td>2.206432</td>\n",
       "      <td>1.982547</td>\n",
       "      <td>-0.529409</td>\n",
       "      <td>-0.33602</td>\n",
       "      <td>1.816290</td>\n",
       "      <td>-1.630444</td>\n",
       "      <td>1.658089</td>\n",
       "      <td>0.199041</td>\n",
       "      <td>2</td>\n",
       "      <td>2</td>\n",
       "      <td>0</td>\n",
       "      <td>0</td>\n",
       "    </tr>\n",
       "    <tr>\n",
       "      <th>3</th>\n",
       "      <td>-0.990128</td>\n",
       "      <td>-0.996659</td>\n",
       "      <td>-0.520489</td>\n",
       "      <td>-0.491697</td>\n",
       "      <td>-1.574524</td>\n",
       "      <td>-1.875436</td>\n",
       "      <td>1.709303</td>\n",
       "      <td>1.832073</td>\n",
       "      <td>-0.529409</td>\n",
       "      <td>-0.33602</td>\n",
       "      <td>1.065020</td>\n",
       "      <td>0.100778</td>\n",
       "      <td>-0.199574</td>\n",
       "      <td>0.574105</td>\n",
       "      <td>2</td>\n",
       "      <td>2</td>\n",
       "      <td>0</td>\n",
       "      <td>0</td>\n",
       "    </tr>\n",
       "    <tr>\n",
       "      <th>4</th>\n",
       "      <td>-0.990128</td>\n",
       "      <td>-0.996659</td>\n",
       "      <td>-0.520489</td>\n",
       "      <td>-0.491697</td>\n",
       "      <td>-0.442610</td>\n",
       "      <td>0.057515</td>\n",
       "      <td>0.756734</td>\n",
       "      <td>0.722460</td>\n",
       "      <td>-0.529409</td>\n",
       "      <td>-0.33602</td>\n",
       "      <td>1.065020</td>\n",
       "      <td>0.918635</td>\n",
       "      <td>-1.116671</td>\n",
       "      <td>0.574105</td>\n",
       "      <td>2</td>\n",
       "      <td>2</td>\n",
       "      <td>1</td>\n",
       "      <td>0</td>\n",
       "    </tr>\n",
       "  </tbody>\n",
       "</table>\n",
       "</div>"
      ],
      "text/plain": [
       "   Administrative  Administrative_Duration  Informational  \\\n",
       "0       -0.990128                -0.996659      -0.520489   \n",
       "1       -0.990128                -0.996659      -0.520489   \n",
       "2       -0.990128                -0.996659      -0.520489   \n",
       "3       -0.990128                -0.996659      -0.520489   \n",
       "4       -0.990128                -0.996659      -0.520489   \n",
       "\n",
       "   Informational_Duration  ProductRelated  ProductRelated_Duration  \\\n",
       "0               -0.491697       -1.922123                -2.096783   \n",
       "1               -0.491697       -1.574524                -1.074189   \n",
       "2               -0.491697       -1.922123                -2.096783   \n",
       "3               -0.491697       -1.574524                -1.875436   \n",
       "4               -0.491697       -0.442610                 0.057515   \n",
       "\n",
       "   BounceRates  ExitRates  PageValues  SpecialDay  OperatingSystems   Browser  \\\n",
       "0     2.206432   1.982547   -0.529409    -0.33602         -1.594583 -1.630444   \n",
       "1    -0.799209   1.569866   -0.529409    -0.33602          0.023949  0.100778   \n",
       "2     2.206432   1.982547   -0.529409    -0.33602          1.816290 -1.630444   \n",
       "3     1.709303   1.832073   -0.529409    -0.33602          1.065020  0.100778   \n",
       "4     0.756734   0.722460   -0.529409    -0.33602          1.065020  0.918635   \n",
       "\n",
       "     Region  TrafficType  Month  VisitorType  Weekend  Revenue  \n",
       "0 -1.116671    -1.458641      2            2        0        0  \n",
       "1 -1.116671    -0.386728      2            2        0        0  \n",
       "2  1.658089     0.199041      2            2        0        0  \n",
       "3 -0.199574     0.574105      2            2        0        0  \n",
       "4 -1.116671     0.574105      2            2        1        0  "
      ]
     },
     "execution_count": 22,
     "metadata": {},
     "output_type": "execute_result"
    }
   ],
   "source": [
    "df1.head()"
   ]
  },
  {
   "cell_type": "code",
   "execution_count": 24,
   "metadata": {
    "id": "sUiXO1pe5hCJ"
   },
   "outputs": [],
   "source": [
    "import scipy.cluster.hierarchy as sch\n",
    "import sklearn\n",
    "from sklearn.cluster import KMeans\n",
    "from sklearn.metrics import silhouette_score"
   ]
  },
  {
   "cell_type": "code",
   "execution_count": 25,
   "metadata": {
    "id": "2nS7MiRjRbpx"
   },
   "outputs": [],
   "source": [
    "rev= df1['Revenue']\n",
    "df1.drop({'Revenue'}, axis=1, inplace=True)"
   ]
  },
  {
   "cell_type": "code",
   "execution_count": 27,
   "metadata": {
    "id": "L-SRmNyj5hFh"
   },
   "outputs": [],
   "source": [
    "we= []\n",
    "sc= []\n",
    "for i in range(2, 15):\n",
    "    km= KMeans(n_clusters=i, random_state=42)\n",
    "    km.fit(df1)\n",
    "    we.append(km.inertia_)\n",
    "    lab= km.labels_\n",
    "    sc.append(silhouette_score(df1,lab))"
   ]
  },
  {
   "cell_type": "code",
   "execution_count": 28,
   "metadata": {
    "colab": {
     "base_uri": "https://localhost:8080/",
     "height": 278
    },
    "id": "N_N2lzUq5hIp",
    "outputId": "3e349c37-db68-4aa3-bfa5-1e59fbaf1f13"
   },
   "outputs": [
    {
     "data": {
      "image/png": "[encoded data removed]",
      "text/plain": [
       "<Figure size 432x288 with 1 Axes>"
      ]
     },
     "metadata": {
      "needs_background": "light"
     },
     "output_type": "display_data"
    }
   ],
   "source": [
    "plt.plot(range(2,15), we, 'r')\n",
    "plt.xlabel('clusters')\n",
    "plt.ylabel('SSD')\n",
    "plt.show()"
   ]
  },
  {
   "cell_type": "code",
   "execution_count": 29,
   "metadata": {
    "id": "NEvHEcnaYvgZ"
   },
   "outputs": [],
   "source": [
    "# For KMeans optimum number of cluster is 3"
   ]
  },
  {
   "cell_type": "code",
   "execution_count": 30,
   "metadata": {
    "colab": {
     "base_uri": "https://localhost:8080/",
     "height": 278
    },
    "id": "3UBr9CiF5hOy",
    "outputId": "a606ce8b-f494-4749-9241-835bb910ba01"
   },
   "outputs": [
    {
     "data": {
      "image/png": "[encoded data removed]",
      "text/plain": [
       "<Figure size 432x288 with 1 Axes>"
      ]
     },
     "metadata": {
      "needs_background": "light"
     },
     "output_type": "display_data"
    }
   ],
   "source": [
    "plt.plot(range(2,15), sc, 'b')\n",
    "plt.xlabel('Sil score')\n",
    "plt.ylabel('SSD')\n",
    "plt.show()"
   ]
  },
  {
   "cell_type": "code",
   "execution_count": 31,
   "metadata": {
    "colab": {
     "base_uri": "https://localhost:8080/"
    },
    "id": "lW94vHJ7XPz7",
    "outputId": "fa0f78fe-485c-4901-b227-4b4affed98de"
   },
   "outputs": [
    {
     "data": {
      "text/plain": [
       "KMeans(n_clusters=2, random_state=42)"
      ]
     },
     "execution_count": 31,
     "metadata": {},
     "output_type": "execute_result"
    }
   ],
   "source": [
    "km= KMeans(n_clusters=2, random_state=42)\n",
    "km.fit(df1.iloc[:,:17])"
   ]
  },
  {
   "cell_type": "code",
   "execution_count": 32,
   "metadata": {
    "id": "VVEcaJ4-XP2_"
   },
   "outputs": [],
   "source": [
    "lab= km.labels_\n",
    "df1['kmeans_label'] = lab"
   ]
  },
  {
   "cell_type": "code",
   "execution_count": 34,
   "metadata": {
    "colab": {
     "base_uri": "https://localhost:8080/",
     "height": 272
    },
    "id": "eBCHK6KlT49-",
    "outputId": "c0d63d24-c17c-4607-d2cb-fac4481f7a39"
   },
   "outputs": [
    {
     "data": {
      "image/png": "[encoded data removed]",
      "text/plain": [
       "<Figure size 432x288 with 1 Axes>"
      ]
     },
     "metadata": {
      "needs_background": "light"
     },
     "output_type": "display_data"
    }
   ],
   "source": [
    "# Agglomerative \n",
    "\n",
    "from sklearn.cluster import AgglomerativeClustering\n",
    "import scipy.cluster.hierarchy as sch\n",
    "\n",
    "dendrogram = sch.dendrogram(sch.linkage(df1, method='ward'))"
   ]
  },
  {
   "cell_type": "raw",
   "metadata": {
    "id": "WtJsA1TQYzVb"
   },
   "source": [
    "For Agglomerative Clustering, optimum number of cluster is 2."
   ]
  },
  {
   "cell_type": "code",
   "execution_count": 35,
   "metadata": {
    "id": "QWJ3qevgUqpu"
   },
   "outputs": [],
   "source": [
    "model = AgglomerativeClustering(n_clusters=2, affinity='euclidean', linkage='ward')\n",
    "model.fit(df1)\n",
    "labels = model.labels_"
   ]
  },
  {
   "cell_type": "code",
   "execution_count": 36,
   "metadata": {
    "colab": {
     "base_uri": "https://localhost:8080/",
     "height": 137
    },
    "id": "UaT1iOQpW11E",
    "outputId": "3e073279-e691-48a8-8f28-8ad54317d9b0"
   },
   "outputs": [
    {
     "data": {
      "text/html": [
       "<div>\n",
       "<style scoped>\n",
       "    .dataframe tbody tr th:only-of-type {\n",
       "        vertical-align: middle;\n",
       "    }\n",
       "\n",
       "    .dataframe tbody tr th {\n",
       "        vertical-align: top;\n",
       "    }\n",
       "\n",
       "    .dataframe thead th {\n",
       "        text-align: right;\n",
       "    }\n",
       "</style>\n",
       "<table border=\"1\" class=\"dataframe\">\n",
       "  <thead>\n",
       "    <tr style=\"text-align: right;\">\n",
       "      <th>real</th>\n",
       "      <th>0</th>\n",
       "      <th>1</th>\n",
       "    </tr>\n",
       "    <tr>\n",
       "      <th>agg_cl</th>\n",
       "      <th></th>\n",
       "      <th></th>\n",
       "    </tr>\n",
       "  </thead>\n",
       "  <tbody>\n",
       "    <tr>\n",
       "      <th>0</th>\n",
       "      <td>8020</td>\n",
       "      <td>1554</td>\n",
       "    </tr>\n",
       "    <tr>\n",
       "      <th>1</th>\n",
       "      <td>2402</td>\n",
       "      <td>354</td>\n",
       "    </tr>\n",
       "  </tbody>\n",
       "</table>\n",
       "</div>"
      ],
      "text/plain": [
       "real       0     1\n",
       "agg_cl            \n",
       "0       8020  1554\n",
       "1       2402   354"
      ]
     },
     "execution_count": 36,
     "metadata": {},
     "output_type": "execute_result"
    }
   ],
   "source": [
    "df1['agg_cl'] = labels\n",
    "df1['real'] = rev\n",
    "\n",
    "pd.crosstab(df1['agg_cl'], df1['real'])"
   ]
  },
  {
   "cell_type": "code",
   "execution_count": 37,
   "metadata": {
    "id": "DyfwmbrgW14P"
   },
   "outputs": [],
   "source": [
    "# PCA\n",
    "from sklearn.decomposition import PCA\n",
    "from sklearn.preprocessing import StandardScaler"
   ]
  },
  {
   "cell_type": "code",
   "execution_count": 38,
   "metadata": {
    "colab": {
     "base_uri": "https://localhost:8080/"
    },
    "id": "rjEjSOZ9W161",
    "outputId": "59504972-8a8f-4c84-834a-6b2cc27db8d9"
   },
   "outputs": [
    {
     "data": {
      "text/plain": [
       "PCA()"
      ]
     },
     "execution_count": 38,
     "metadata": {},
     "output_type": "execute_result"
    }
   ],
   "source": [
    "pca = PCA()\n",
    "pca.fit(df1.iloc[:,:17])"
   ]
  },
  {
   "cell_type": "code",
   "execution_count": 39,
   "metadata": {
    "colab": {
     "base_uri": "https://localhost:8080/"
    },
    "id": "BlCsXwhRW199",
    "outputId": "533b1d01-6c2e-463d-b788-27b57609e39a"
   },
   "outputs": [
    {
     "data": {
      "text/plain": [
       "array([5.70769722, 4.21589723, 1.61994136, 1.46523601, 1.15699505,\n",
       "       1.05827083, 1.00057941, 0.9724255 , 0.82118087, 0.75425643,\n",
       "       0.5586385 , 0.37655049, 0.20613531, 0.17419618, 0.09212853,\n",
       "       0.05156225, 0.04295098])"
      ]
     },
     "execution_count": 39,
     "metadata": {},
     "output_type": "execute_result"
    }
   ],
   "source": [
    "pca.explained_variance_"
   ]
  },
  {
   "cell_type": "code",
   "execution_count": 40,
   "metadata": {
    "colab": {
     "base_uri": "https://localhost:8080/"
    },
    "id": "BwR1CGq7W2AD",
    "outputId": "fcb63111-1f5b-42e1-b8fb-1c699f1bbeaa",
    "scrolled": true
   },
   "outputs": [
    {
     "data": {
      "text/plain": [
       "array([0.28151901, 0.48945843, 0.5693583 , 0.64162769, 0.69869381,\n",
       "       0.75089058, 0.80024185, 0.8482045 , 0.88870735, 0.92590931,\n",
       "       0.95346287, 0.97203535, 0.9822025 , 0.99079433, 0.99533835,\n",
       "       0.99788154, 1.        ])"
      ]
     },
     "execution_count": 40,
     "metadata": {},
     "output_type": "execute_result"
    }
   ],
   "source": [
    "np.cumsum(pca.explained_variance_ratio_)"
   ]
  },
  {
   "cell_type": "code",
   "execution_count": null,
   "metadata": {},
   "outputs": [],
   "source": [
    "10 of the PCA components are explaining over 95% of variance in the target variable."
   ]
  },
  {
   "cell_type": "code",
   "execution_count": 41,
   "metadata": {
    "colab": {
     "base_uri": "https://localhost:8080/"
    },
    "id": "adEnvp6YYWLY",
    "outputId": "dcb4caa1-adba-4275-8cc7-f79d6cd18fcc"
   },
   "outputs": [
    {
     "data": {
      "text/plain": [
       "(12330, 10)"
      ]
     },
     "execution_count": 41,
     "metadata": {},
     "output_type": "execute_result"
    }
   ],
   "source": [
    "pca = PCA(n_components=10)\n",
    "pca.fit(df1.iloc[:,:17])\n",
    "X_pca = pca.transform(df1.iloc[:,:17])\n",
    "X_pca.shape"
   ]
  },
  {
   "cell_type": "code",
   "execution_count": 42,
   "metadata": {
    "colab": {
     "base_uri": "https://localhost:8080/"
    },
    "id": "3v8dUIlgYiUE",
    "outputId": "998c200c-d6e4-48d9-f7d8-cc344a3298e1"
   },
   "outputs": [
    {
     "data": {
      "text/plain": [
       "array([[ 3.96785453, -3.15722686,  1.85215673, ..., -1.26255046,\n",
       "        -0.0504977 ,  0.45972142],\n",
       "       [ 3.66514005, -1.76491049, -0.01819126, ..., -1.09396967,\n",
       "         0.25494107,  0.55265284],\n",
       "       [ 3.96635746, -3.19045066,  1.42319175, ...,  0.94570355,\n",
       "        -0.88983437, -0.30611277],\n",
       "       ...,\n",
       "       [-1.28554906, -3.0950321 ,  0.96916536, ..., -1.17505276,\n",
       "        -1.43253792, -0.88198258],\n",
       "       [-1.90996153,  0.05167406, -1.14737824, ...,  0.22578623,\n",
       "        -0.0198387 , -0.80240356],\n",
       "       [-1.22607129, -2.62839278, -0.65539893, ..., -1.20864187,\n",
       "         0.58324809,  0.76846848]])"
      ]
     },
     "execution_count": 42,
     "metadata": {},
     "output_type": "execute_result"
    }
   ],
   "source": [
    "X_pca"
   ]
  },
  {
   "cell_type": "code",
   "execution_count": 43,
   "metadata": {
    "id": "mVG98blQvZdH"
   },
   "outputs": [],
   "source": [
    "xpca= pd.DataFrame(X_pca, columns=[i for i in range(10)])"
   ]
  },
  {
   "cell_type": "code",
   "execution_count": 44,
   "metadata": {
    "colab": {
     "base_uri": "https://localhost:8080/",
     "height": 406
    },
    "id": "B9VjUyF9vnSc",
    "outputId": "64c8ce95-60cc-4890-ecf4-c2d6a9062684"
   },
   "outputs": [
    {
     "data": {
      "text/html": [
       "<div>\n",
       "<style scoped>\n",
       "    .dataframe tbody tr th:only-of-type {\n",
       "        vertical-align: middle;\n",
       "    }\n",
       "\n",
       "    .dataframe tbody tr th {\n",
       "        vertical-align: top;\n",
       "    }\n",
       "\n",
       "    .dataframe thead th {\n",
       "        text-align: right;\n",
       "    }\n",
       "</style>\n",
       "<table border=\"1\" class=\"dataframe\">\n",
       "  <thead>\n",
       "    <tr style=\"text-align: right;\">\n",
       "      <th></th>\n",
       "      <th>0</th>\n",
       "      <th>1</th>\n",
       "      <th>2</th>\n",
       "      <th>3</th>\n",
       "      <th>4</th>\n",
       "      <th>5</th>\n",
       "      <th>6</th>\n",
       "      <th>7</th>\n",
       "      <th>8</th>\n",
       "      <th>9</th>\n",
       "    </tr>\n",
       "  </thead>\n",
       "  <tbody>\n",
       "    <tr>\n",
       "      <th>0</th>\n",
       "      <td>3.967855</td>\n",
       "      <td>-3.157227</td>\n",
       "      <td>1.852157</td>\n",
       "      <td>-2.473557</td>\n",
       "      <td>0.078589</td>\n",
       "      <td>-0.558001</td>\n",
       "      <td>-0.953455</td>\n",
       "      <td>-1.262550</td>\n",
       "      <td>-0.050498</td>\n",
       "      <td>0.459721</td>\n",
       "    </tr>\n",
       "    <tr>\n",
       "      <th>1</th>\n",
       "      <td>3.665140</td>\n",
       "      <td>-1.764910</td>\n",
       "      <td>-0.018191</td>\n",
       "      <td>-0.207546</td>\n",
       "      <td>-0.165361</td>\n",
       "      <td>-0.545207</td>\n",
       "      <td>0.790807</td>\n",
       "      <td>-1.093970</td>\n",
       "      <td>0.254941</td>\n",
       "      <td>0.552653</td>\n",
       "    </tr>\n",
       "    <tr>\n",
       "      <th>2</th>\n",
       "      <td>3.966357</td>\n",
       "      <td>-3.190451</td>\n",
       "      <td>1.423192</td>\n",
       "      <td>0.356660</td>\n",
       "      <td>1.693341</td>\n",
       "      <td>-0.281747</td>\n",
       "      <td>-0.720689</td>\n",
       "      <td>0.945704</td>\n",
       "      <td>-0.889834</td>\n",
       "      <td>-0.306113</td>\n",
       "    </tr>\n",
       "    <tr>\n",
       "      <th>3</th>\n",
       "      <td>3.842579</td>\n",
       "      <td>-2.801770</td>\n",
       "      <td>1.073932</td>\n",
       "      <td>0.833321</td>\n",
       "      <td>1.047133</td>\n",
       "      <td>0.111045</td>\n",
       "      <td>0.066903</td>\n",
       "      <td>-0.639180</td>\n",
       "      <td>-0.699332</td>\n",
       "      <td>-0.047416</td>\n",
       "    </tr>\n",
       "    <tr>\n",
       "      <th>4</th>\n",
       "      <td>3.427203</td>\n",
       "      <td>-1.026062</td>\n",
       "      <td>0.059997</td>\n",
       "      <td>1.414241</td>\n",
       "      <td>-0.540125</td>\n",
       "      <td>0.294762</td>\n",
       "      <td>0.522586</td>\n",
       "      <td>-1.178781</td>\n",
       "      <td>-0.680046</td>\n",
       "      <td>-0.552744</td>\n",
       "    </tr>\n",
       "    <tr>\n",
       "      <th>...</th>\n",
       "      <td>...</td>\n",
       "      <td>...</td>\n",
       "      <td>...</td>\n",
       "      <td>...</td>\n",
       "      <td>...</td>\n",
       "      <td>...</td>\n",
       "      <td>...</td>\n",
       "      <td>...</td>\n",
       "      <td>...</td>\n",
       "      <td>...</td>\n",
       "    </tr>\n",
       "    <tr>\n",
       "      <th>12325</th>\n",
       "      <td>3.717338</td>\n",
       "      <td>2.560343</td>\n",
       "      <td>-1.035019</td>\n",
       "      <td>2.128029</td>\n",
       "      <td>-0.208718</td>\n",
       "      <td>-0.163738</td>\n",
       "      <td>-1.828935</td>\n",
       "      <td>-2.153729</td>\n",
       "      <td>-0.470230</td>\n",
       "      <td>1.046296</td>\n",
       "    </tr>\n",
       "    <tr>\n",
       "      <th>12326</th>\n",
       "      <td>-1.549349</td>\n",
       "      <td>-1.612734</td>\n",
       "      <td>-0.964443</td>\n",
       "      <td>0.682029</td>\n",
       "      <td>-0.308619</td>\n",
       "      <td>0.194674</td>\n",
       "      <td>1.965102</td>\n",
       "      <td>-0.726031</td>\n",
       "      <td>-0.438501</td>\n",
       "      <td>-0.271849</td>\n",
       "    </tr>\n",
       "    <tr>\n",
       "      <th>12327</th>\n",
       "      <td>-1.285549</td>\n",
       "      <td>-3.095032</td>\n",
       "      <td>0.969165</td>\n",
       "      <td>0.991682</td>\n",
       "      <td>0.403127</td>\n",
       "      <td>0.876051</td>\n",
       "      <td>0.550889</td>\n",
       "      <td>-1.175053</td>\n",
       "      <td>-1.432538</td>\n",
       "      <td>-0.881983</td>\n",
       "    </tr>\n",
       "    <tr>\n",
       "      <th>12328</th>\n",
       "      <td>-1.909962</td>\n",
       "      <td>0.051674</td>\n",
       "      <td>-1.147378</td>\n",
       "      <td>-0.089901</td>\n",
       "      <td>1.499494</td>\n",
       "      <td>0.824296</td>\n",
       "      <td>0.568361</td>\n",
       "      <td>0.225786</td>\n",
       "      <td>-0.019839</td>\n",
       "      <td>-0.802404</td>\n",
       "    </tr>\n",
       "    <tr>\n",
       "      <th>12329</th>\n",
       "      <td>-1.226071</td>\n",
       "      <td>-2.628393</td>\n",
       "      <td>-0.655399</td>\n",
       "      <td>0.260221</td>\n",
       "      <td>0.419710</td>\n",
       "      <td>-1.019415</td>\n",
       "      <td>1.379836</td>\n",
       "      <td>-1.208642</td>\n",
       "      <td>0.583248</td>\n",
       "      <td>0.768468</td>\n",
       "    </tr>\n",
       "  </tbody>\n",
       "</table>\n",
       "<p>12330 rows × 10 columns</p>\n",
       "</div>"
      ],
      "text/plain": [
       "              0         1         2         3         4         5         6  \\\n",
       "0      3.967855 -3.157227  1.852157 -2.473557  0.078589 -0.558001 -0.953455   \n",
       "1      3.665140 -1.764910 -0.018191 -0.207546 -0.165361 -0.545207  0.790807   \n",
       "2      3.966357 -3.190451  1.423192  0.356660  1.693341 -0.281747 -0.720689   \n",
       "3      3.842579 -2.801770  1.073932  0.833321  1.047133  0.111045  0.066903   \n",
       "4      3.427203 -1.026062  0.059997  1.414241 -0.540125  0.294762  0.522586   \n",
       "...         ...       ...       ...       ...       ...       ...       ...   \n",
       "12325  3.717338  2.560343 -1.035019  2.128029 -0.208718 -0.163738 -1.828935   \n",
       "12326 -1.549349 -1.612734 -0.964443  0.682029 -0.308619  0.194674  1.965102   \n",
       "12327 -1.285549 -3.095032  0.969165  0.991682  0.403127  0.876051  0.550889   \n",
       "12328 -1.909962  0.051674 -1.147378 -0.089901  1.499494  0.824296  0.568361   \n",
       "12329 -1.226071 -2.628393 -0.655399  0.260221  0.419710 -1.019415  1.379836   \n",
       "\n",
       "              7         8         9  \n",
       "0     -1.262550 -0.050498  0.459721  \n",
       "1     -1.093970  0.254941  0.552653  \n",
       "2      0.945704 -0.889834 -0.306113  \n",
       "3     -0.639180 -0.699332 -0.047416  \n",
       "4     -1.178781 -0.680046 -0.552744  \n",
       "...         ...       ...       ...  \n",
       "12325 -2.153729 -0.470230  1.046296  \n",
       "12326 -0.726031 -0.438501 -0.271849  \n",
       "12327 -1.175053 -1.432538 -0.881983  \n",
       "12328  0.225786 -0.019839 -0.802404  \n",
       "12329 -1.208642  0.583248  0.768468  \n",
       "\n",
       "[12330 rows x 10 columns]"
      ]
     },
     "execution_count": 44,
     "metadata": {},
     "output_type": "execute_result"
    }
   ],
   "source": [
    "xpca"
   ]
  },
  {
   "cell_type": "code",
   "execution_count": 66,
   "metadata": {
    "colab": {
     "base_uri": "https://localhost:8080/",
     "height": 271
    },
    "id": "2lGUFUGvvoaA",
    "outputId": "db1835ef-f206-4fc7-d7ec-01a4d2ce0d8d"
   },
   "outputs": [
    {
     "data": {
      "image/png": "[encoded data removed]",
      "text/plain": [
       "<Figure size 432x288 with 1 Axes>"
      ]
     },
     "metadata": {
      "needs_background": "light",
      "tags": []
     },
     "output_type": "display_data"
    }
   ],
   "source": [
    "# Applying the agglomerative clustering on this\n",
    "dendrogram = sch.dendrogram(sch.linkage(xpca, method='ward'))"
   ]
  },
  {
   "cell_type": "code",
   "execution_count": null,
   "metadata": {
    "id": "262N2Lonv8rw"
   },
   "outputs": [],
   "source": [
    "# For Agglo, optimum number of cluster is 3\n",
    "\n",
    "# but lets try with 2 first"
   ]
  },
  {
   "cell_type": "code",
   "execution_count": 45,
   "metadata": {
    "id": "0RYQSAd0v1L9"
   },
   "outputs": [],
   "source": [
    "model = AgglomerativeClustering(n_clusters=2, affinity='euclidean', linkage='ward')\n",
    "model.fit(xpca)\n",
    "labels = model.labels_"
   ]
  },
  {
   "cell_type": "code",
   "execution_count": 46,
   "metadata": {
    "colab": {
     "base_uri": "https://localhost:8080/",
     "height": 137
    },
    "id": "lNjDwwPcv4bJ",
    "outputId": "0972d8ba-62f3-4cc5-e2fa-1cd0e7d4b322"
   },
   "outputs": [
    {
     "data": {
      "text/html": [
       "<div>\n",
       "<style scoped>\n",
       "    .dataframe tbody tr th:only-of-type {\n",
       "        vertical-align: middle;\n",
       "    }\n",
       "\n",
       "    .dataframe tbody tr th {\n",
       "        vertical-align: top;\n",
       "    }\n",
       "\n",
       "    .dataframe thead th {\n",
       "        text-align: right;\n",
       "    }\n",
       "</style>\n",
       "<table border=\"1\" class=\"dataframe\">\n",
       "  <thead>\n",
       "    <tr style=\"text-align: right;\">\n",
       "      <th>real</th>\n",
       "      <th>0</th>\n",
       "      <th>1</th>\n",
       "    </tr>\n",
       "    <tr>\n",
       "      <th>agg_cl</th>\n",
       "      <th></th>\n",
       "      <th></th>\n",
       "    </tr>\n",
       "  </thead>\n",
       "  <tbody>\n",
       "    <tr>\n",
       "      <th>0</th>\n",
       "      <td>8159</td>\n",
       "      <td>1591</td>\n",
       "    </tr>\n",
       "    <tr>\n",
       "      <th>1</th>\n",
       "      <td>2263</td>\n",
       "      <td>317</td>\n",
       "    </tr>\n",
       "  </tbody>\n",
       "</table>\n",
       "</div>"
      ],
      "text/plain": [
       "real       0     1\n",
       "agg_cl            \n",
       "0       8159  1591\n",
       "1       2263   317"
      ]
     },
     "execution_count": 46,
     "metadata": {},
     "output_type": "execute_result"
    }
   ],
   "source": [
    "xpca['agg_cl'] = labels\n",
    "xpca['real'] = rev\n",
    "\n",
    "pd.crosstab(xpca['agg_cl'], xpca['real'])"
   ]
  },
  {
   "cell_type": "raw",
   "metadata": {
    "id": "9sdj5JQOv4i7"
   },
   "source": [
    "Comparitively a better score than without PCA. So PCA has worked slightly to build a better model."
   ]
  },
  {
   "cell_type": "code",
   "execution_count": 48,
   "metadata": {
    "colab": {
     "base_uri": "https://localhost:8080/",
     "height": 406
    },
    "id": "eps1x_92v4xZ",
    "outputId": "3acd51d1-ffda-427a-a336-aaa2b63ae88c"
   },
   "outputs": [
    {
     "data": {
      "text/html": [
       "<div>\n",
       "<style scoped>\n",
       "    .dataframe tbody tr th:only-of-type {\n",
       "        vertical-align: middle;\n",
       "    }\n",
       "\n",
       "    .dataframe tbody tr th {\n",
       "        vertical-align: top;\n",
       "    }\n",
       "\n",
       "    .dataframe thead th {\n",
       "        text-align: right;\n",
       "    }\n",
       "</style>\n",
       "<table border=\"1\" class=\"dataframe\">\n",
       "  <thead>\n",
       "    <tr style=\"text-align: right;\">\n",
       "      <th></th>\n",
       "      <th>0</th>\n",
       "      <th>1</th>\n",
       "      <th>2</th>\n",
       "      <th>3</th>\n",
       "      <th>4</th>\n",
       "      <th>5</th>\n",
       "      <th>6</th>\n",
       "      <th>7</th>\n",
       "      <th>8</th>\n",
       "      <th>9</th>\n",
       "      <th>agg_cl</th>\n",
       "      <th>real</th>\n",
       "    </tr>\n",
       "  </thead>\n",
       "  <tbody>\n",
       "    <tr>\n",
       "      <th>0</th>\n",
       "      <td>3.967855</td>\n",
       "      <td>-3.157227</td>\n",
       "      <td>1.852157</td>\n",
       "      <td>-2.473557</td>\n",
       "      <td>0.078589</td>\n",
       "      <td>-0.558001</td>\n",
       "      <td>-0.953455</td>\n",
       "      <td>-1.262550</td>\n",
       "      <td>-0.050498</td>\n",
       "      <td>0.459721</td>\n",
       "      <td>1</td>\n",
       "      <td>0</td>\n",
       "    </tr>\n",
       "    <tr>\n",
       "      <th>1</th>\n",
       "      <td>3.665140</td>\n",
       "      <td>-1.764910</td>\n",
       "      <td>-0.018191</td>\n",
       "      <td>-0.207546</td>\n",
       "      <td>-0.165361</td>\n",
       "      <td>-0.545207</td>\n",
       "      <td>0.790807</td>\n",
       "      <td>-1.093970</td>\n",
       "      <td>0.254941</td>\n",
       "      <td>0.552653</td>\n",
       "      <td>1</td>\n",
       "      <td>0</td>\n",
       "    </tr>\n",
       "    <tr>\n",
       "      <th>2</th>\n",
       "      <td>3.966357</td>\n",
       "      <td>-3.190451</td>\n",
       "      <td>1.423192</td>\n",
       "      <td>0.356660</td>\n",
       "      <td>1.693341</td>\n",
       "      <td>-0.281747</td>\n",
       "      <td>-0.720689</td>\n",
       "      <td>0.945704</td>\n",
       "      <td>-0.889834</td>\n",
       "      <td>-0.306113</td>\n",
       "      <td>1</td>\n",
       "      <td>0</td>\n",
       "    </tr>\n",
       "    <tr>\n",
       "      <th>3</th>\n",
       "      <td>3.842579</td>\n",
       "      <td>-2.801770</td>\n",
       "      <td>1.073932</td>\n",
       "      <td>0.833321</td>\n",
       "      <td>1.047133</td>\n",
       "      <td>0.111045</td>\n",
       "      <td>0.066903</td>\n",
       "      <td>-0.639180</td>\n",
       "      <td>-0.699332</td>\n",
       "      <td>-0.047416</td>\n",
       "      <td>1</td>\n",
       "      <td>0</td>\n",
       "    </tr>\n",
       "    <tr>\n",
       "      <th>4</th>\n",
       "      <td>3.427203</td>\n",
       "      <td>-1.026062</td>\n",
       "      <td>0.059997</td>\n",
       "      <td>1.414241</td>\n",
       "      <td>-0.540125</td>\n",
       "      <td>0.294762</td>\n",
       "      <td>0.522586</td>\n",
       "      <td>-1.178781</td>\n",
       "      <td>-0.680046</td>\n",
       "      <td>-0.552744</td>\n",
       "      <td>1</td>\n",
       "      <td>0</td>\n",
       "    </tr>\n",
       "    <tr>\n",
       "      <th>...</th>\n",
       "      <td>...</td>\n",
       "      <td>...</td>\n",
       "      <td>...</td>\n",
       "      <td>...</td>\n",
       "      <td>...</td>\n",
       "      <td>...</td>\n",
       "      <td>...</td>\n",
       "      <td>...</td>\n",
       "      <td>...</td>\n",
       "      <td>...</td>\n",
       "      <td>...</td>\n",
       "      <td>...</td>\n",
       "    </tr>\n",
       "    <tr>\n",
       "      <th>12325</th>\n",
       "      <td>3.717338</td>\n",
       "      <td>2.560343</td>\n",
       "      <td>-1.035019</td>\n",
       "      <td>2.128029</td>\n",
       "      <td>-0.208718</td>\n",
       "      <td>-0.163738</td>\n",
       "      <td>-1.828935</td>\n",
       "      <td>-2.153729</td>\n",
       "      <td>-0.470230</td>\n",
       "      <td>1.046296</td>\n",
       "      <td>1</td>\n",
       "      <td>0</td>\n",
       "    </tr>\n",
       "    <tr>\n",
       "      <th>12326</th>\n",
       "      <td>-1.549349</td>\n",
       "      <td>-1.612734</td>\n",
       "      <td>-0.964443</td>\n",
       "      <td>0.682029</td>\n",
       "      <td>-0.308619</td>\n",
       "      <td>0.194674</td>\n",
       "      <td>1.965102</td>\n",
       "      <td>-0.726031</td>\n",
       "      <td>-0.438501</td>\n",
       "      <td>-0.271849</td>\n",
       "      <td>0</td>\n",
       "      <td>0</td>\n",
       "    </tr>\n",
       "    <tr>\n",
       "      <th>12327</th>\n",
       "      <td>-1.285549</td>\n",
       "      <td>-3.095032</td>\n",
       "      <td>0.969165</td>\n",
       "      <td>0.991682</td>\n",
       "      <td>0.403127</td>\n",
       "      <td>0.876051</td>\n",
       "      <td>0.550889</td>\n",
       "      <td>-1.175053</td>\n",
       "      <td>-1.432538</td>\n",
       "      <td>-0.881983</td>\n",
       "      <td>0</td>\n",
       "      <td>0</td>\n",
       "    </tr>\n",
       "    <tr>\n",
       "      <th>12328</th>\n",
       "      <td>-1.909962</td>\n",
       "      <td>0.051674</td>\n",
       "      <td>-1.147378</td>\n",
       "      <td>-0.089901</td>\n",
       "      <td>1.499494</td>\n",
       "      <td>0.824296</td>\n",
       "      <td>0.568361</td>\n",
       "      <td>0.225786</td>\n",
       "      <td>-0.019839</td>\n",
       "      <td>-0.802404</td>\n",
       "      <td>0</td>\n",
       "      <td>0</td>\n",
       "    </tr>\n",
       "    <tr>\n",
       "      <th>12329</th>\n",
       "      <td>-1.226071</td>\n",
       "      <td>-2.628393</td>\n",
       "      <td>-0.655399</td>\n",
       "      <td>0.260221</td>\n",
       "      <td>0.419710</td>\n",
       "      <td>-1.019415</td>\n",
       "      <td>1.379836</td>\n",
       "      <td>-1.208642</td>\n",
       "      <td>0.583248</td>\n",
       "      <td>0.768468</td>\n",
       "      <td>0</td>\n",
       "      <td>0</td>\n",
       "    </tr>\n",
       "  </tbody>\n",
       "</table>\n",
       "<p>12330 rows × 12 columns</p>\n",
       "</div>"
      ],
      "text/plain": [
       "              0         1         2         3         4         5         6  \\\n",
       "0      3.967855 -3.157227  1.852157 -2.473557  0.078589 -0.558001 -0.953455   \n",
       "1      3.665140 -1.764910 -0.018191 -0.207546 -0.165361 -0.545207  0.790807   \n",
       "2      3.966357 -3.190451  1.423192  0.356660  1.693341 -0.281747 -0.720689   \n",
       "3      3.842579 -2.801770  1.073932  0.833321  1.047133  0.111045  0.066903   \n",
       "4      3.427203 -1.026062  0.059997  1.414241 -0.540125  0.294762  0.522586   \n",
       "...         ...       ...       ...       ...       ...       ...       ...   \n",
       "12325  3.717338  2.560343 -1.035019  2.128029 -0.208718 -0.163738 -1.828935   \n",
       "12326 -1.549349 -1.612734 -0.964443  0.682029 -0.308619  0.194674  1.965102   \n",
       "12327 -1.285549 -3.095032  0.969165  0.991682  0.403127  0.876051  0.550889   \n",
       "12328 -1.909962  0.051674 -1.147378 -0.089901  1.499494  0.824296  0.568361   \n",
       "12329 -1.226071 -2.628393 -0.655399  0.260221  0.419710 -1.019415  1.379836   \n",
       "\n",
       "              7         8         9  agg_cl  real  \n",
       "0     -1.262550 -0.050498  0.459721       1     0  \n",
       "1     -1.093970  0.254941  0.552653       1     0  \n",
       "2      0.945704 -0.889834 -0.306113       1     0  \n",
       "3     -0.639180 -0.699332 -0.047416       1     0  \n",
       "4     -1.178781 -0.680046 -0.552744       1     0  \n",
       "...         ...       ...       ...     ...   ...  \n",
       "12325 -2.153729 -0.470230  1.046296       1     0  \n",
       "12326 -0.726031 -0.438501 -0.271849       0     0  \n",
       "12327 -1.175053 -1.432538 -0.881983       0     0  \n",
       "12328  0.225786 -0.019839 -0.802404       0     0  \n",
       "12329 -1.208642  0.583248  0.768468       0     0  \n",
       "\n",
       "[12330 rows x 12 columns]"
      ]
     },
     "execution_count": 48,
     "metadata": {},
     "output_type": "execute_result"
    }
   ],
   "source": [
    "xpca"
   ]
  },
  {
   "cell_type": "code",
   "execution_count": null,
   "metadata": {
    "id": "7AuTWmCrv42g"
   },
   "outputs": [],
   "source": []
  }
 ],
 "metadata": {
  "colab": {
   "collapsed_sections": [],
   "name": "USL_mini_my.ipynb",
   "provenance": []
  },
  "kernelspec": {
   "display_name": "Python 3",
   "language": "python",
   "name": "python3"
  },
  "language_info": {
   "codemirror_mode": {
    "name": "ipython",
    "version": 3
   },
   "file_extension": ".py",
   "mimetype": "text/x-python",
   "name": "python",
   "nbconvert_exporter": "python",
   "pygments_lexer": "ipython3",
   "version": "3.8.8"
  }
 },
 "nbformat": 4,
 "nbformat_minor": 1
}
