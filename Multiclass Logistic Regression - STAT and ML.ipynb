{
 "cells": [
  {
   "cell_type": "code",
   "execution_count": 2,
   "id": "objective-consolidation",
   "metadata": {},
   "outputs": [],
   "source": [
    "import numpy as np\n",
    "import pandas as pd\n",
    "import matplotlib.pyplot as plt\n",
    "import seaborn as sns"
   ]
  },
  {
   "cell_type": "code",
   "execution_count": 5,
   "id": "occasional-nevada",
   "metadata": {},
   "outputs": [
    {
     "data": {
      "text/html": [
       "<div>\n",
       "<style scoped>\n",
       "    .dataframe tbody tr th:only-of-type {\n",
       "        vertical-align: middle;\n",
       "    }\n",
       "\n",
       "    .dataframe tbody tr th {\n",
       "        vertical-align: top;\n",
       "    }\n",
       "\n",
       "    .dataframe thead th {\n",
       "        text-align: right;\n",
       "    }\n",
       "</style>\n",
       "<table border=\"1\" class=\"dataframe\">\n",
       "  <thead>\n",
       "    <tr style=\"text-align: right;\">\n",
       "      <th></th>\n",
       "      <th>fixed acidity</th>\n",
       "      <th>volatile acidity</th>\n",
       "      <th>citric acid</th>\n",
       "      <th>residual sugar</th>\n",
       "      <th>chlorides</th>\n",
       "      <th>free sulfur dioxide</th>\n",
       "      <th>total sulfur dioxide</th>\n",
       "      <th>density</th>\n",
       "      <th>pH</th>\n",
       "      <th>sulphates</th>\n",
       "      <th>alcohol</th>\n",
       "      <th>quality</th>\n",
       "    </tr>\n",
       "  </thead>\n",
       "  <tbody>\n",
       "    <tr>\n",
       "      <th>0</th>\n",
       "      <td>11.6</td>\n",
       "      <td>0.580</td>\n",
       "      <td>0.66</td>\n",
       "      <td>2.20</td>\n",
       "      <td>0.074</td>\n",
       "      <td>10.0</td>\n",
       "      <td>47.0</td>\n",
       "      <td>1.00080</td>\n",
       "      <td>3.25</td>\n",
       "      <td>0.57</td>\n",
       "      <td>9.0</td>\n",
       "      <td>1</td>\n",
       "    </tr>\n",
       "    <tr>\n",
       "      <th>1</th>\n",
       "      <td>10.4</td>\n",
       "      <td>0.610</td>\n",
       "      <td>0.49</td>\n",
       "      <td>2.10</td>\n",
       "      <td>0.200</td>\n",
       "      <td>5.0</td>\n",
       "      <td>16.0</td>\n",
       "      <td>0.99940</td>\n",
       "      <td>3.16</td>\n",
       "      <td>0.63</td>\n",
       "      <td>8.4</td>\n",
       "      <td>1</td>\n",
       "    </tr>\n",
       "    <tr>\n",
       "      <th>2</th>\n",
       "      <td>7.4</td>\n",
       "      <td>1.185</td>\n",
       "      <td>0.00</td>\n",
       "      <td>4.25</td>\n",
       "      <td>0.097</td>\n",
       "      <td>5.0</td>\n",
       "      <td>14.0</td>\n",
       "      <td>0.99660</td>\n",
       "      <td>3.63</td>\n",
       "      <td>0.54</td>\n",
       "      <td>10.7</td>\n",
       "      <td>1</td>\n",
       "    </tr>\n",
       "    <tr>\n",
       "      <th>3</th>\n",
       "      <td>10.4</td>\n",
       "      <td>0.440</td>\n",
       "      <td>0.42</td>\n",
       "      <td>1.50</td>\n",
       "      <td>0.145</td>\n",
       "      <td>34.0</td>\n",
       "      <td>48.0</td>\n",
       "      <td>0.99832</td>\n",
       "      <td>3.38</td>\n",
       "      <td>0.86</td>\n",
       "      <td>9.9</td>\n",
       "      <td>1</td>\n",
       "    </tr>\n",
       "    <tr>\n",
       "      <th>4</th>\n",
       "      <td>8.3</td>\n",
       "      <td>1.020</td>\n",
       "      <td>0.02</td>\n",
       "      <td>3.40</td>\n",
       "      <td>0.084</td>\n",
       "      <td>6.0</td>\n",
       "      <td>11.0</td>\n",
       "      <td>0.99892</td>\n",
       "      <td>3.48</td>\n",
       "      <td>0.49</td>\n",
       "      <td>11.0</td>\n",
       "      <td>1</td>\n",
       "    </tr>\n",
       "  </tbody>\n",
       "</table>\n",
       "</div>"
      ],
      "text/plain": [
       "   fixed acidity  volatile acidity  citric acid  residual sugar  chlorides  \\\n",
       "0           11.6             0.580         0.66            2.20      0.074   \n",
       "1           10.4             0.610         0.49            2.10      0.200   \n",
       "2            7.4             1.185         0.00            4.25      0.097   \n",
       "3           10.4             0.440         0.42            1.50      0.145   \n",
       "4            8.3             1.020         0.02            3.40      0.084   \n",
       "\n",
       "   free sulfur dioxide  total sulfur dioxide  density    pH  sulphates  \\\n",
       "0                 10.0                  47.0  1.00080  3.25       0.57   \n",
       "1                  5.0                  16.0  0.99940  3.16       0.63   \n",
       "2                  5.0                  14.0  0.99660  3.63       0.54   \n",
       "3                 34.0                  48.0  0.99832  3.38       0.86   \n",
       "4                  6.0                  11.0  0.99892  3.48       0.49   \n",
       "\n",
       "   alcohol  quality  \n",
       "0      9.0        1  \n",
       "1      8.4        1  \n",
       "2     10.7        1  \n",
       "3      9.9        1  \n",
       "4     11.0        1  "
      ]
     },
     "execution_count": 5,
     "metadata": {},
     "output_type": "execute_result"
    }
   ],
   "source": [
    "df = pd.read_csv('winequality.csv')\n",
    "\n",
    "df.head()"
   ]
  },
  {
   "cell_type": "code",
   "execution_count": 6,
   "id": "radio-bunch",
   "metadata": {},
   "outputs": [
    {
     "data": {
      "text/plain": [
       "1    744\n",
       "2    638\n",
       "3    217\n",
       "Name: quality, dtype: int64"
      ]
     },
     "execution_count": 6,
     "metadata": {},
     "output_type": "execute_result"
    }
   ],
   "source": [
    "df['quality'].value_counts()"
   ]
  },
  {
   "cell_type": "markdown",
   "id": "encouraging-approach",
   "metadata": {},
   "source": [
    "## Multi-Class Statistics Approach"
   ]
  },
  {
   "cell_type": "code",
   "execution_count": null,
   "id": "ready-pontiac",
   "metadata": {},
   "outputs": [],
   "source": [
    "import statsmodels.api as sm"
   ]
  },
  {
   "cell_type": "code",
   "execution_count": 9,
   "id": "female-complement",
   "metadata": {},
   "outputs": [],
   "source": [
    "y = df['quality']\n",
    "X = df.drop(['quality','pH'],axis = 1)"
   ]
  },
  {
   "cell_type": "code",
   "execution_count": 12,
   "id": "assured-blair",
   "metadata": {},
   "outputs": [
    {
     "name": "stdout",
     "output_type": "stream",
     "text": [
      "Optimization terminated successfully.\n",
      "         Current function value: 0.758777\n",
      "         Iterations 9\n"
     ]
    },
    {
     "data": {
      "text/html": [
       "<table class=\"simpletable\">\n",
       "<caption>MNLogit Regression Results</caption>\n",
       "<tr>\n",
       "  <th>Dep. Variable:</th>        <td>quality</td>     <th>  No. Observations:  </th>   <td>  1599</td>  \n",
       "</tr>\n",
       "<tr>\n",
       "  <th>Model:</th>                <td>MNLogit</td>     <th>  Df Residuals:      </th>   <td>  1577</td>  \n",
       "</tr>\n",
       "<tr>\n",
       "  <th>Method:</th>                 <td>MLE</td>       <th>  Df Model:          </th>   <td>    20</td>  \n",
       "</tr>\n",
       "<tr>\n",
       "  <th>Date:</th>            <td>Wed, 17 Feb 2021</td> <th>  Pseudo R-squ.:     </th>   <td>0.2364</td>  \n",
       "</tr>\n",
       "<tr>\n",
       "  <th>Time:</th>                <td>12:52:28</td>     <th>  Log-Likelihood:    </th>  <td> -1213.3</td> \n",
       "</tr>\n",
       "<tr>\n",
       "  <th>converged:</th>             <td>True</td>       <th>  LL-Null:           </th>  <td> -1588.8</td> \n",
       "</tr>\n",
       "<tr>\n",
       "  <th>Covariance Type:</th>     <td>nonrobust</td>    <th>  LLR p-value:       </th> <td>3.385e-146</td>\n",
       "</tr>\n",
       "</table>\n",
       "<table class=\"simpletable\">\n",
       "<tr>\n",
       "        <th>quality=2</th>         <th>coef</th>     <th>std err</th>      <th>z</th>      <th>P>|z|</th>  <th>[0.025</th>    <th>0.975]</th>  \n",
       "</tr>\n",
       "<tr>\n",
       "  <th>const</th>                <td>   22.7379</td> <td>   67.894</td> <td>    0.335</td> <td> 0.738</td> <td> -110.332</td> <td>  155.808</td>\n",
       "</tr>\n",
       "<tr>\n",
       "  <th>fixed acidity</th>        <td>    0.1361</td> <td>    0.068</td> <td>    1.987</td> <td> 0.047</td> <td>    0.002</td> <td>    0.270</td>\n",
       "</tr>\n",
       "<tr>\n",
       "  <th>volatile acidity</th>     <td>   -3.0705</td> <td>    0.494</td> <td>   -6.220</td> <td> 0.000</td> <td>   -4.038</td> <td>   -2.103</td>\n",
       "</tr>\n",
       "<tr>\n",
       "  <th>citric acid</th>          <td>   -1.4245</td> <td>    0.573</td> <td>   -2.488</td> <td> 0.013</td> <td>   -2.547</td> <td>   -0.302</td>\n",
       "</tr>\n",
       "<tr>\n",
       "  <th>residual sugar</th>       <td>    0.0258</td> <td>    0.054</td> <td>    0.482</td> <td> 0.630</td> <td>   -0.079</td> <td>    0.131</td>\n",
       "</tr>\n",
       "<tr>\n",
       "  <th>chlorides</th>            <td>   -2.7593</td> <td>    1.529</td> <td>   -1.805</td> <td> 0.071</td> <td>   -5.756</td> <td>    0.237</td>\n",
       "</tr>\n",
       "<tr>\n",
       "  <th>free sulfur dioxide</th>  <td>    0.0223</td> <td>    0.008</td> <td>    2.694</td> <td> 0.007</td> <td>    0.006</td> <td>    0.039</td>\n",
       "</tr>\n",
       "<tr>\n",
       "  <th>total sulfur dioxide</th> <td>   -0.0151</td> <td>    0.003</td> <td>   -5.225</td> <td> 0.000</td> <td>   -0.021</td> <td>   -0.009</td>\n",
       "</tr>\n",
       "<tr>\n",
       "  <th>density</th>              <td>  -30.8676</td> <td>   68.094</td> <td>   -0.453</td> <td> 0.650</td> <td> -164.330</td> <td>  102.594</td>\n",
       "</tr>\n",
       "<tr>\n",
       "  <th>sulphates</th>            <td>    2.3981</td> <td>    0.464</td> <td>    5.164</td> <td> 0.000</td> <td>    1.488</td> <td>    3.308</td>\n",
       "</tr>\n",
       "<tr>\n",
       "  <th>alcohol</th>              <td>    0.7582</td> <td>    0.093</td> <td>    8.189</td> <td> 0.000</td> <td>    0.577</td> <td>    0.940</td>\n",
       "</tr>\n",
       "<tr>\n",
       "        <th>quality=3</th>         <th>coef</th>     <th>std err</th>      <th>z</th>      <th>P>|z|</th>  <th>[0.025</th>    <th>0.975]</th>  \n",
       "</tr>\n",
       "<tr>\n",
       "  <th>const</th>                <td>  253.5596</td> <td>  104.678</td> <td>    2.422</td> <td> 0.015</td> <td>   48.395</td> <td>  458.725</td>\n",
       "</tr>\n",
       "<tr>\n",
       "  <th>fixed acidity</th>        <td>    0.3538</td> <td>    0.104</td> <td>    3.407</td> <td> 0.001</td> <td>    0.150</td> <td>    0.557</td>\n",
       "</tr>\n",
       "<tr>\n",
       "  <th>volatile acidity</th>     <td>   -4.7582</td> <td>    0.874</td> <td>   -5.444</td> <td> 0.000</td> <td>   -6.471</td> <td>   -3.045</td>\n",
       "</tr>\n",
       "<tr>\n",
       "  <th>citric acid</th>          <td>   -0.5005</td> <td>    0.926</td> <td>   -0.541</td> <td> 0.589</td> <td>   -2.315</td> <td>    1.314</td>\n",
       "</tr>\n",
       "<tr>\n",
       "  <th>residual sugar</th>       <td>    0.2560</td> <td>    0.078</td> <td>    3.273</td> <td> 0.001</td> <td>    0.103</td> <td>    0.409</td>\n",
       "</tr>\n",
       "<tr>\n",
       "  <th>chlorides</th>            <td>  -10.7012</td> <td>    3.536</td> <td>   -3.026</td> <td> 0.002</td> <td>  -17.632</td> <td>   -3.771</td>\n",
       "</tr>\n",
       "<tr>\n",
       "  <th>free sulfur dioxide</th>  <td>    0.0253</td> <td>    0.014</td> <td>    1.857</td> <td> 0.063</td> <td>   -0.001</td> <td>    0.052</td>\n",
       "</tr>\n",
       "<tr>\n",
       "  <th>total sulfur dioxide</th> <td>   -0.0259</td> <td>    0.005</td> <td>   -4.910</td> <td> 0.000</td> <td>   -0.036</td> <td>   -0.016</td>\n",
       "</tr>\n",
       "<tr>\n",
       "  <th>density</th>              <td> -272.8841</td> <td>  105.078</td> <td>   -2.597</td> <td> 0.009</td> <td> -478.834</td> <td>  -66.934</td>\n",
       "</tr>\n",
       "<tr>\n",
       "  <th>sulphates</th>            <td>    5.3800</td> <td>    0.647</td> <td>    8.310</td> <td> 0.000</td> <td>    4.111</td> <td>    6.649</td>\n",
       "</tr>\n",
       "<tr>\n",
       "  <th>alcohol</th>              <td>    1.3077</td> <td>    0.137</td> <td>    9.518</td> <td> 0.000</td> <td>    1.038</td> <td>    1.577</td>\n",
       "</tr>\n",
       "</table>"
      ],
      "text/plain": [
       "<class 'statsmodels.iolib.summary.Summary'>\n",
       "\"\"\"\n",
       "                          MNLogit Regression Results                          \n",
       "==============================================================================\n",
       "Dep. Variable:                quality   No. Observations:                 1599\n",
       "Model:                        MNLogit   Df Residuals:                     1577\n",
       "Method:                           MLE   Df Model:                           20\n",
       "Date:                Wed, 17 Feb 2021   Pseudo R-squ.:                  0.2364\n",
       "Time:                        12:52:28   Log-Likelihood:                -1213.3\n",
       "converged:                       True   LL-Null:                       -1588.8\n",
       "Covariance Type:            nonrobust   LLR p-value:                3.385e-146\n",
       "========================================================================================\n",
       "           quality=2       coef    std err          z      P>|z|      [0.025      0.975]\n",
       "----------------------------------------------------------------------------------------\n",
       "const                   22.7379     67.894      0.335      0.738    -110.332     155.808\n",
       "fixed acidity            0.1361      0.068      1.987      0.047       0.002       0.270\n",
       "volatile acidity        -3.0705      0.494     -6.220      0.000      -4.038      -2.103\n",
       "citric acid             -1.4245      0.573     -2.488      0.013      -2.547      -0.302\n",
       "residual sugar           0.0258      0.054      0.482      0.630      -0.079       0.131\n",
       "chlorides               -2.7593      1.529     -1.805      0.071      -5.756       0.237\n",
       "free sulfur dioxide      0.0223      0.008      2.694      0.007       0.006       0.039\n",
       "total sulfur dioxide    -0.0151      0.003     -5.225      0.000      -0.021      -0.009\n",
       "density                -30.8676     68.094     -0.453      0.650    -164.330     102.594\n",
       "sulphates                2.3981      0.464      5.164      0.000       1.488       3.308\n",
       "alcohol                  0.7582      0.093      8.189      0.000       0.577       0.940\n",
       "----------------------------------------------------------------------------------------\n",
       "           quality=3       coef    std err          z      P>|z|      [0.025      0.975]\n",
       "----------------------------------------------------------------------------------------\n",
       "const                  253.5596    104.678      2.422      0.015      48.395     458.725\n",
       "fixed acidity            0.3538      0.104      3.407      0.001       0.150       0.557\n",
       "volatile acidity        -4.7582      0.874     -5.444      0.000      -6.471      -3.045\n",
       "citric acid             -0.5005      0.926     -0.541      0.589      -2.315       1.314\n",
       "residual sugar           0.2560      0.078      3.273      0.001       0.103       0.409\n",
       "chlorides              -10.7012      3.536     -3.026      0.002     -17.632      -3.771\n",
       "free sulfur dioxide      0.0253      0.014      1.857      0.063      -0.001       0.052\n",
       "total sulfur dioxide    -0.0259      0.005     -4.910      0.000      -0.036      -0.016\n",
       "density               -272.8841    105.078     -2.597      0.009    -478.834     -66.934\n",
       "sulphates                5.3800      0.647      8.310      0.000       4.111       6.649\n",
       "alcohol                  1.3077      0.137      9.518      0.000       1.038       1.577\n",
       "========================================================================================\n",
       "\"\"\""
      ]
     },
     "execution_count": 12,
     "metadata": {},
     "output_type": "execute_result"
    }
   ],
   "source": [
    "Xc = sm.add_constant(X)\n",
    "model = sm.MNLogit(y,Xc).fit()\n",
    "model.summary()"
   ]
  },
  {
   "cell_type": "code",
   "execution_count": 19,
   "id": "antique-gossip",
   "metadata": {},
   "outputs": [
    {
     "data": {
      "text/html": [
       "<div>\n",
       "<style scoped>\n",
       "    .dataframe tbody tr th:only-of-type {\n",
       "        vertical-align: middle;\n",
       "    }\n",
       "\n",
       "    .dataframe tbody tr th {\n",
       "        vertical-align: top;\n",
       "    }\n",
       "\n",
       "    .dataframe thead th {\n",
       "        text-align: right;\n",
       "    }\n",
       "</style>\n",
       "<table border=\"1\" class=\"dataframe\">\n",
       "  <thead>\n",
       "    <tr style=\"text-align: right;\">\n",
       "      <th></th>\n",
       "      <th>1</th>\n",
       "      <th>2</th>\n",
       "      <th>3</th>\n",
       "    </tr>\n",
       "  </thead>\n",
       "  <tbody>\n",
       "    <tr>\n",
       "      <th>0</th>\n",
       "      <td>0.844999</td>\n",
       "      <td>0.148639</td>\n",
       "      <td>0.006362</td>\n",
       "    </tr>\n",
       "    <tr>\n",
       "      <th>1</th>\n",
       "      <td>0.880592</td>\n",
       "      <td>0.117523</td>\n",
       "      <td>0.001885</td>\n",
       "    </tr>\n",
       "    <tr>\n",
       "      <th>2</th>\n",
       "      <td>0.812346</td>\n",
       "      <td>0.180316</td>\n",
       "      <td>0.007338</td>\n",
       "    </tr>\n",
       "    <tr>\n",
       "      <th>3</th>\n",
       "      <td>0.321525</td>\n",
       "      <td>0.604699</td>\n",
       "      <td>0.073776</td>\n",
       "    </tr>\n",
       "    <tr>\n",
       "      <th>4</th>\n",
       "      <td>0.679494</td>\n",
       "      <td>0.309228</td>\n",
       "      <td>0.011278</td>\n",
       "    </tr>\n",
       "  </tbody>\n",
       "</table>\n",
       "</div>"
      ],
      "text/plain": [
       "          1         2         3\n",
       "0  0.844999  0.148639  0.006362\n",
       "1  0.880592  0.117523  0.001885\n",
       "2  0.812346  0.180316  0.007338\n",
       "3  0.321525  0.604699  0.073776\n",
       "4  0.679494  0.309228  0.011278"
      ]
     },
     "execution_count": 19,
     "metadata": {},
     "output_type": "execute_result"
    }
   ],
   "source": [
    "y_pred_prob = model.predict(Xc)\n",
    "y_pred_prob.columns=['1','2','3']\n",
    "y_pred_prob.head()"
   ]
  },
  {
   "cell_type": "code",
   "execution_count": 21,
   "id": "completed-minnesota",
   "metadata": {},
   "outputs": [
    {
     "data": {
      "text/html": [
       "<div>\n",
       "<style scoped>\n",
       "    .dataframe tbody tr th:only-of-type {\n",
       "        vertical-align: middle;\n",
       "    }\n",
       "\n",
       "    .dataframe tbody tr th {\n",
       "        vertical-align: top;\n",
       "    }\n",
       "\n",
       "    .dataframe thead th {\n",
       "        text-align: right;\n",
       "    }\n",
       "</style>\n",
       "<table border=\"1\" class=\"dataframe\">\n",
       "  <thead>\n",
       "    <tr style=\"text-align: right;\">\n",
       "      <th></th>\n",
       "      <th>1</th>\n",
       "      <th>2</th>\n",
       "      <th>3</th>\n",
       "      <th>pred</th>\n",
       "    </tr>\n",
       "  </thead>\n",
       "  <tbody>\n",
       "    <tr>\n",
       "      <th>0</th>\n",
       "      <td>0.844999</td>\n",
       "      <td>0.148639</td>\n",
       "      <td>0.006362</td>\n",
       "      <td>1</td>\n",
       "    </tr>\n",
       "    <tr>\n",
       "      <th>1</th>\n",
       "      <td>0.880592</td>\n",
       "      <td>0.117523</td>\n",
       "      <td>0.001885</td>\n",
       "      <td>1</td>\n",
       "    </tr>\n",
       "    <tr>\n",
       "      <th>2</th>\n",
       "      <td>0.812346</td>\n",
       "      <td>0.180316</td>\n",
       "      <td>0.007338</td>\n",
       "      <td>1</td>\n",
       "    </tr>\n",
       "    <tr>\n",
       "      <th>3</th>\n",
       "      <td>0.321525</td>\n",
       "      <td>0.604699</td>\n",
       "      <td>0.073776</td>\n",
       "      <td>2</td>\n",
       "    </tr>\n",
       "    <tr>\n",
       "      <th>4</th>\n",
       "      <td>0.679494</td>\n",
       "      <td>0.309228</td>\n",
       "      <td>0.011278</td>\n",
       "      <td>1</td>\n",
       "    </tr>\n",
       "  </tbody>\n",
       "</table>\n",
       "</div>"
      ],
      "text/plain": [
       "          1         2         3 pred\n",
       "0  0.844999  0.148639  0.006362    1\n",
       "1  0.880592  0.117523  0.001885    1\n",
       "2  0.812346  0.180316  0.007338    1\n",
       "3  0.321525  0.604699  0.073776    2\n",
       "4  0.679494  0.309228  0.011278    1"
      ]
     },
     "execution_count": 21,
     "metadata": {},
     "output_type": "execute_result"
    }
   ],
   "source": [
    "y_pred_prob['pred'] = y_pred_prob[['1','2','3']].idxmax(axis=1)\n",
    "y_pred_prob.head()"
   ]
  },
  {
   "cell_type": "code",
   "execution_count": 26,
   "id": "twelve-nicholas",
   "metadata": {},
   "outputs": [],
   "source": [
    "y_pred_prob['pred']=y_pred_prob['pred'].astype(int)"
   ]
  },
  {
   "cell_type": "code",
   "execution_count": 35,
   "id": "occupied-lucas",
   "metadata": {},
   "outputs": [],
   "source": [
    "from sklearn.metrics import classification_report,confusion_matrix,accuracy_score"
   ]
  },
  {
   "cell_type": "code",
   "execution_count": 28,
   "id": "engaging-tribune",
   "metadata": {},
   "outputs": [
    {
     "name": "stdout",
     "output_type": "stream",
     "text": [
      "              precision    recall  f1-score   support\n",
      "\n",
      "           1       0.71      0.78      0.74       744\n",
      "           2       0.56      0.57      0.56       638\n",
      "           3       0.57      0.36      0.44       217\n",
      "\n",
      "    accuracy                           0.64      1599\n",
      "   macro avg       0.61      0.57      0.58      1599\n",
      "weighted avg       0.63      0.64      0.63      1599\n",
      "\n"
     ]
    }
   ],
   "source": [
    "print(classification_report(y,y_pred_prob['pred']))"
   ]
  },
  {
   "cell_type": "markdown",
   "id": "official-disorder",
   "metadata": {},
   "source": [
    "## Ml Approach"
   ]
  },
  {
   "cell_type": "markdown",
   "id": "explicit-tiffany",
   "metadata": {},
   "source": [
    "**ML - OVR (One v/s Rest)**"
   ]
  },
  {
   "cell_type": "code",
   "execution_count": 29,
   "id": "wired-spice",
   "metadata": {},
   "outputs": [],
   "source": [
    "from sklearn.linear_model import LogisticRegression\n",
    "lr = LogisticRegression(solver='liblinear')"
   ]
  },
  {
   "cell_type": "code",
   "execution_count": 30,
   "id": "looking-gibraltar",
   "metadata": {},
   "outputs": [
    {
     "data": {
      "text/plain": [
       "LogisticRegression(solver='liblinear')"
      ]
     },
     "execution_count": 30,
     "metadata": {},
     "output_type": "execute_result"
    }
   ],
   "source": [
    "lr.fit(X,y)"
   ]
  },
  {
   "cell_type": "code",
   "execution_count": 31,
   "id": "collectible-seeker",
   "metadata": {},
   "outputs": [],
   "source": [
    "y_pred = lr.predict(X)\n",
    "y_prob = lr.predict_proba(X)"
   ]
  },
  {
   "cell_type": "raw",
   "id": "imported-document",
   "metadata": {},
   "source": [
    "Notes:-\n",
    "OVR builds separate models by joinging classes, like (1 vs 2&3)"
   ]
  },
  {
   "cell_type": "code",
   "execution_count": 43,
   "id": "consistent-richardson",
   "metadata": {},
   "outputs": [
    {
     "name": "stdout",
     "output_type": "stream",
     "text": [
      "[[582 157   5]\n",
      " [235 361  42]\n",
      " [ 14 132  71]]\n",
      "\n",
      "Accuracy Score 0.6341463414634146\n"
     ]
    }
   ],
   "source": [
    "print(confusion_matrix(y,y_pred))\n",
    "print('\\nAccuracy Score',accuracy_score(y,y_pred))"
   ]
  },
  {
   "cell_type": "markdown",
   "id": "unlike-harbor",
   "metadata": {},
   "source": [
    "**ML - Multinomial**"
   ]
  },
  {
   "cell_type": "code",
   "execution_count": 38,
   "id": "opposed-perry",
   "metadata": {},
   "outputs": [
    {
     "data": {
      "text/plain": [
       "LogisticRegression(max_iter=5000, multi_class='multinomial', n_jobs=-1)"
      ]
     },
     "execution_count": 38,
     "metadata": {},
     "output_type": "execute_result"
    }
   ],
   "source": [
    "lr = LogisticRegression(solver='lbfgs',multi_class='multinomial',max_iter=5000,n_jobs=-1)\n",
    "lr.fit(X,y)"
   ]
  },
  {
   "cell_type": "code",
   "execution_count": 39,
   "id": "passing-pasta",
   "metadata": {},
   "outputs": [],
   "source": [
    "y_pred = lr.predict(X)\n",
    "y_prob = lr.predict_proba(X)"
   ]
  },
  {
   "cell_type": "code",
   "execution_count": 42,
   "id": "oriented-individual",
   "metadata": {},
   "outputs": [
    {
     "name": "stdout",
     "output_type": "stream",
     "text": [
      "[[582 157   5]\n",
      " [235 361  42]\n",
      " [ 14 132  71]]\n",
      "\n",
      "Accuracy Score 0.6341463414634146\n"
     ]
    }
   ],
   "source": [
    "print(confusion_matrix(y,y_pred))\n",
    "print('\\nAccuracy Score',accuracy_score(y,y_pred))"
   ]
  }
 ],
 "metadata": {
  "kernelspec": {
   "display_name": "Python 3",
   "language": "python",
   "name": "python3"
  },
  "language_info": {
   "codemirror_mode": {
    "name": "ipython",
    "version": 3
   },
   "file_extension": ".py",
   "mimetype": "text/x-python",
   "name": "python",
   "nbconvert_exporter": "python",
   "pygments_lexer": "ipython3",
   "version": "3.8.5"
  }
 },
 "nbformat": 4,
 "nbformat_minor": 5
}
