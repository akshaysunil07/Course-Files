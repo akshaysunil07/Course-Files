{
 "cells": [
  {
   "cell_type": "code",
   "execution_count": 1,
   "id": "elegant-defense",
   "metadata": {},
   "outputs": [],
   "source": [
    "import numpy as np\n",
    "import pandas as pd\n",
    "import matplotlib.pyplot as plt\n",
    "import seaborn as sns\n",
    "import warnings\n",
    "warnings.filterwarnings('ignore')\n",
    "\n",
    "df1 = pd.read_csv('AD-Tech.csv')\n",
    "df = df1.sample(n=50000,random_state=10).reset_index(drop=True)\n"
   ]
  },
  {
   "cell_type": "code",
   "execution_count": 2,
   "id": "demographic-remark",
   "metadata": {},
   "outputs": [
    {
     "data": {
      "text/plain": [
       "Index(['date', 'site_id', 'ad_type_id', 'geo_id', 'device_category_id',\n",
       "       'advertiser_id', 'order_id', 'line_item_type_id', 'os_id',\n",
       "       'integration_type_id', 'monetization_channel_id', 'ad_unit_id',\n",
       "       'total_impressions', 'total_revenue', 'viewable_impressions',\n",
       "       'measurable_impressions', 'revenue_share_percent'],\n",
       "      dtype='object')"
      ]
     },
     "execution_count": 2,
     "metadata": {},
     "output_type": "execute_result"
    }
   ],
   "source": [
    "df.columns"
   ]
  },
  {
   "cell_type": "code",
   "execution_count": 2,
   "id": "blocked-phenomenon",
   "metadata": {},
   "outputs": [],
   "source": [
    "cat_col=['date','geo_id','order_id','site_id', 'ad_type_id','device_category_id', 'advertiser_id',\n",
    "         'line_item_type_id', 'os_id','monetization_channel_id']\n",
    "\n",
    "scat_col = ['site_id', 'ad_type_id','device_category_id', 'advertiser_id',\n",
    "         'line_item_type_id', 'os_id','monetization_channel_id']\n",
    "\n",
    "for i in cat_col:\n",
    "    df[i]=df[i].astype('object')"
   ]
  },
  {
   "cell_type": "code",
   "execution_count": 3,
   "id": "obvious-victor",
   "metadata": {},
   "outputs": [],
   "source": [
    "df.drop(['ad_unit_id','revenue_share_percent','integration_type_id'],axis=1,inplace=True)\n",
    "df.drop(['ad_type_id','site_id','advertiser_id'],axis=1,inplace=True)\n",
    "df.drop(['date','geo_id','order_id'],axis=1,inplace=True)"
   ]
  },
  {
   "cell_type": "code",
   "execution_count": 4,
   "id": "allied-wagon",
   "metadata": {},
   "outputs": [
    {
     "data": {
      "text/html": [
       "<div>\n",
       "<style scoped>\n",
       "    .dataframe tbody tr th:only-of-type {\n",
       "        vertical-align: middle;\n",
       "    }\n",
       "\n",
       "    .dataframe tbody tr th {\n",
       "        vertical-align: top;\n",
       "    }\n",
       "\n",
       "    .dataframe thead th {\n",
       "        text-align: right;\n",
       "    }\n",
       "</style>\n",
       "<table border=\"1\" class=\"dataframe\">\n",
       "  <thead>\n",
       "    <tr style=\"text-align: right;\">\n",
       "      <th></th>\n",
       "      <th>device_category_id</th>\n",
       "      <th>line_item_type_id</th>\n",
       "      <th>os_id</th>\n",
       "      <th>monetization_channel_id</th>\n",
       "    </tr>\n",
       "  </thead>\n",
       "  <tbody>\n",
       "    <tr>\n",
       "      <th>0</th>\n",
       "      <td>2</td>\n",
       "      <td>4</td>\n",
       "      <td>58</td>\n",
       "      <td>19</td>\n",
       "    </tr>\n",
       "    <tr>\n",
       "      <th>1</th>\n",
       "      <td>1</td>\n",
       "      <td>8</td>\n",
       "      <td>56</td>\n",
       "      <td>19</td>\n",
       "    </tr>\n",
       "    <tr>\n",
       "      <th>2</th>\n",
       "      <td>3</td>\n",
       "      <td>19</td>\n",
       "      <td>59</td>\n",
       "      <td>4</td>\n",
       "    </tr>\n",
       "    <tr>\n",
       "      <th>3</th>\n",
       "      <td>2</td>\n",
       "      <td>8</td>\n",
       "      <td>60</td>\n",
       "      <td>19</td>\n",
       "    </tr>\n",
       "    <tr>\n",
       "      <th>4</th>\n",
       "      <td>1</td>\n",
       "      <td>20</td>\n",
       "      <td>56</td>\n",
       "      <td>19</td>\n",
       "    </tr>\n",
       "    <tr>\n",
       "      <th>...</th>\n",
       "      <td>...</td>\n",
       "      <td>...</td>\n",
       "      <td>...</td>\n",
       "      <td>...</td>\n",
       "    </tr>\n",
       "    <tr>\n",
       "      <th>49995</th>\n",
       "      <td>2</td>\n",
       "      <td>8</td>\n",
       "      <td>60</td>\n",
       "      <td>19</td>\n",
       "    </tr>\n",
       "    <tr>\n",
       "      <th>49996</th>\n",
       "      <td>2</td>\n",
       "      <td>4</td>\n",
       "      <td>60</td>\n",
       "      <td>19</td>\n",
       "    </tr>\n",
       "    <tr>\n",
       "      <th>49997</th>\n",
       "      <td>1</td>\n",
       "      <td>8</td>\n",
       "      <td>56</td>\n",
       "      <td>19</td>\n",
       "    </tr>\n",
       "    <tr>\n",
       "      <th>49998</th>\n",
       "      <td>2</td>\n",
       "      <td>4</td>\n",
       "      <td>58</td>\n",
       "      <td>19</td>\n",
       "    </tr>\n",
       "    <tr>\n",
       "      <th>49999</th>\n",
       "      <td>1</td>\n",
       "      <td>11</td>\n",
       "      <td>56</td>\n",
       "      <td>2</td>\n",
       "    </tr>\n",
       "  </tbody>\n",
       "</table>\n",
       "<p>50000 rows × 4 columns</p>\n",
       "</div>"
      ],
      "text/plain": [
       "      device_category_id line_item_type_id os_id monetization_channel_id\n",
       "0                      2                 4    58                      19\n",
       "1                      1                 8    56                      19\n",
       "2                      3                19    59                       4\n",
       "3                      2                 8    60                      19\n",
       "4                      1                20    56                      19\n",
       "...                  ...               ...   ...                     ...\n",
       "49995                  2                 8    60                      19\n",
       "49996                  2                 4    60                      19\n",
       "49997                  1                 8    56                      19\n",
       "49998                  2                 4    58                      19\n",
       "49999                  1                11    56                       2\n",
       "\n",
       "[50000 rows x 4 columns]"
      ]
     },
     "execution_count": 4,
     "metadata": {},
     "output_type": "execute_result"
    }
   ],
   "source": [
    "df.select_dtypes(object)"
   ]
  },
  {
   "cell_type": "code",
   "execution_count": 5,
   "id": "legislative-leader",
   "metadata": {
    "scrolled": false
   },
   "outputs": [
    {
     "data": {
      "image/png": "[encoded data removed]",
      "text/plain": [
       "<Figure size 432x288 with 1 Axes>"
      ]
     },
     "metadata": {
      "needs_background": "light"
     },
     "output_type": "display_data"
    },
    {
     "data": {
      "image/png": "[encoded data removed]",
      "text/plain": [
       "<Figure size 432x288 with 1 Axes>"
      ]
     },
     "metadata": {
      "needs_background": "light"
     },
     "output_type": "display_data"
    },
    {
     "data": {
      "image/png": "[encoded data removed]",
      "text/plain": [
       "<Figure size 432x288 with 1 Axes>"
      ]
     },
     "metadata": {
      "needs_background": "light"
     },
     "output_type": "display_data"
    },
    {
     "data": {
      "image/png": "[encoded data removed]",
      "text/plain": [
       "<Figure size 432x288 with 1 Axes>"
      ]
     },
     "metadata": {
      "needs_background": "light"
     },
     "output_type": "display_data"
    }
   ],
   "source": [
    "for i in df.select_dtypes(object).columns:\n",
    "    pd.crosstab(df['monetization_channel_id'],df[i]).plot(kind='bar')\n",
    "    plt.show()"
   ]
  },
  {
   "cell_type": "code",
   "execution_count": 6,
   "id": "missing-liberal",
   "metadata": {
    "scrolled": true
   },
   "outputs": [
    {
     "data": {
      "text/html": [
       "<div>\n",
       "<style scoped>\n",
       "    .dataframe tbody tr th:only-of-type {\n",
       "        vertical-align: middle;\n",
       "    }\n",
       "\n",
       "    .dataframe tbody tr th {\n",
       "        vertical-align: top;\n",
       "    }\n",
       "\n",
       "    .dataframe thead th {\n",
       "        text-align: right;\n",
       "    }\n",
       "</style>\n",
       "<table border=\"1\" class=\"dataframe\">\n",
       "  <thead>\n",
       "    <tr style=\"text-align: right;\">\n",
       "      <th></th>\n",
       "      <th>device_category_id</th>\n",
       "      <th>line_item_type_id</th>\n",
       "      <th>os_id</th>\n",
       "      <th>monetization_channel_id</th>\n",
       "      <th>total_impressions</th>\n",
       "      <th>total_revenue</th>\n",
       "      <th>viewable_impressions</th>\n",
       "      <th>measurable_impressions</th>\n",
       "    </tr>\n",
       "  </thead>\n",
       "  <tbody>\n",
       "    <tr>\n",
       "      <th>0</th>\n",
       "      <td>2</td>\n",
       "      <td>4</td>\n",
       "      <td>58</td>\n",
       "      <td>19</td>\n",
       "      <td>0</td>\n",
       "      <td>0.0000</td>\n",
       "      <td>0</td>\n",
       "      <td>0</td>\n",
       "    </tr>\n",
       "    <tr>\n",
       "      <th>1</th>\n",
       "      <td>1</td>\n",
       "      <td>8</td>\n",
       "      <td>56</td>\n",
       "      <td>19</td>\n",
       "      <td>2</td>\n",
       "      <td>0.0000</td>\n",
       "      <td>0</td>\n",
       "      <td>2</td>\n",
       "    </tr>\n",
       "    <tr>\n",
       "      <th>2</th>\n",
       "      <td>3</td>\n",
       "      <td>19</td>\n",
       "      <td>59</td>\n",
       "      <td>4</td>\n",
       "      <td>6</td>\n",
       "      <td>0.0064</td>\n",
       "      <td>2</td>\n",
       "      <td>6</td>\n",
       "    </tr>\n",
       "    <tr>\n",
       "      <th>3</th>\n",
       "      <td>2</td>\n",
       "      <td>8</td>\n",
       "      <td>60</td>\n",
       "      <td>19</td>\n",
       "      <td>6</td>\n",
       "      <td>0.0000</td>\n",
       "      <td>0</td>\n",
       "      <td>6</td>\n",
       "    </tr>\n",
       "    <tr>\n",
       "      <th>4</th>\n",
       "      <td>1</td>\n",
       "      <td>20</td>\n",
       "      <td>56</td>\n",
       "      <td>19</td>\n",
       "      <td>0</td>\n",
       "      <td>0.0000</td>\n",
       "      <td>0</td>\n",
       "      <td>0</td>\n",
       "    </tr>\n",
       "    <tr>\n",
       "      <th>...</th>\n",
       "      <td>...</td>\n",
       "      <td>...</td>\n",
       "      <td>...</td>\n",
       "      <td>...</td>\n",
       "      <td>...</td>\n",
       "      <td>...</td>\n",
       "      <td>...</td>\n",
       "      <td>...</td>\n",
       "    </tr>\n",
       "    <tr>\n",
       "      <th>49995</th>\n",
       "      <td>2</td>\n",
       "      <td>8</td>\n",
       "      <td>60</td>\n",
       "      <td>19</td>\n",
       "      <td>0</td>\n",
       "      <td>0.0000</td>\n",
       "      <td>0</td>\n",
       "      <td>0</td>\n",
       "    </tr>\n",
       "    <tr>\n",
       "      <th>49996</th>\n",
       "      <td>2</td>\n",
       "      <td>4</td>\n",
       "      <td>60</td>\n",
       "      <td>19</td>\n",
       "      <td>0</td>\n",
       "      <td>0.0000</td>\n",
       "      <td>0</td>\n",
       "      <td>0</td>\n",
       "    </tr>\n",
       "    <tr>\n",
       "      <th>49997</th>\n",
       "      <td>1</td>\n",
       "      <td>8</td>\n",
       "      <td>56</td>\n",
       "      <td>19</td>\n",
       "      <td>12</td>\n",
       "      <td>0.0000</td>\n",
       "      <td>8</td>\n",
       "      <td>8</td>\n",
       "    </tr>\n",
       "    <tr>\n",
       "      <th>49998</th>\n",
       "      <td>2</td>\n",
       "      <td>4</td>\n",
       "      <td>58</td>\n",
       "      <td>19</td>\n",
       "      <td>0</td>\n",
       "      <td>0.0000</td>\n",
       "      <td>0</td>\n",
       "      <td>0</td>\n",
       "    </tr>\n",
       "    <tr>\n",
       "      <th>49999</th>\n",
       "      <td>1</td>\n",
       "      <td>11</td>\n",
       "      <td>56</td>\n",
       "      <td>2</td>\n",
       "      <td>4</td>\n",
       "      <td>0.0000</td>\n",
       "      <td>2</td>\n",
       "      <td>4</td>\n",
       "    </tr>\n",
       "  </tbody>\n",
       "</table>\n",
       "<p>50000 rows × 8 columns</p>\n",
       "</div>"
      ],
      "text/plain": [
       "      device_category_id line_item_type_id os_id monetization_channel_id  \\\n",
       "0                      2                 4    58                      19   \n",
       "1                      1                 8    56                      19   \n",
       "2                      3                19    59                       4   \n",
       "3                      2                 8    60                      19   \n",
       "4                      1                20    56                      19   \n",
       "...                  ...               ...   ...                     ...   \n",
       "49995                  2                 8    60                      19   \n",
       "49996                  2                 4    60                      19   \n",
       "49997                  1                 8    56                      19   \n",
       "49998                  2                 4    58                      19   \n",
       "49999                  1                11    56                       2   \n",
       "\n",
       "       total_impressions  total_revenue  viewable_impressions  \\\n",
       "0                      0         0.0000                     0   \n",
       "1                      2         0.0000                     0   \n",
       "2                      6         0.0064                     2   \n",
       "3                      6         0.0000                     0   \n",
       "4                      0         0.0000                     0   \n",
       "...                  ...            ...                   ...   \n",
       "49995                  0         0.0000                     0   \n",
       "49996                  0         0.0000                     0   \n",
       "49997                 12         0.0000                     8   \n",
       "49998                  0         0.0000                     0   \n",
       "49999                  4         0.0000                     2   \n",
       "\n",
       "       measurable_impressions  \n",
       "0                           0  \n",
       "1                           2  \n",
       "2                           6  \n",
       "3                           6  \n",
       "4                           0  \n",
       "...                       ...  \n",
       "49995                       0  \n",
       "49996                       0  \n",
       "49997                       8  \n",
       "49998                       0  \n",
       "49999                       4  \n",
       "\n",
       "[50000 rows x 8 columns]"
      ]
     },
     "execution_count": 6,
     "metadata": {},
     "output_type": "execute_result"
    }
   ],
   "source": [
    "df"
   ]
  },
  {
   "cell_type": "code",
   "execution_count": 7,
   "id": "interested-orleans",
   "metadata": {},
   "outputs": [],
   "source": [
    "Xd = df.drop('total_revenue',axis=1)\n",
    "y = df['total_revenue']"
   ]
  },
  {
   "cell_type": "code",
   "execution_count": 8,
   "id": "standing-automation",
   "metadata": {},
   "outputs": [],
   "source": [
    "X=pd.get_dummies(Xd,drop_first=True)"
   ]
  },
  {
   "cell_type": "code",
   "execution_count": 9,
   "id": "metallic-mention",
   "metadata": {},
   "outputs": [],
   "source": [
    "pc_col=['total_impressions', 'viewable_impressions', 'measurable_impressions']"
   ]
  },
  {
   "cell_type": "code",
   "execution_count": 10,
   "id": "clinical-vatican",
   "metadata": {},
   "outputs": [],
   "source": [
    "from sklearn.preprocessing import StandardScaler\n",
    "ss = StandardScaler()"
   ]
  },
  {
   "cell_type": "code",
   "execution_count": 11,
   "id": "grateful-wages",
   "metadata": {},
   "outputs": [],
   "source": [
    "X[pc_col]=pd.DataFrame(ss.fit_transform(X[pc_col]),columns=[pc_col])"
   ]
  },
  {
   "cell_type": "code",
   "execution_count": 12,
   "id": "associate-fellow",
   "metadata": {},
   "outputs": [],
   "source": [
    "from sklearn.model_selection import train_test_split\n",
    "X_train,X_test,y_train,y_test = train_test_split(X,y,test_size=0.2,random_state=4)"
   ]
  },
  {
   "cell_type": "code",
   "execution_count": 13,
   "id": "superb-emission",
   "metadata": {},
   "outputs": [
    {
     "data": {
      "text/plain": [
       "PCA()"
      ]
     },
     "execution_count": 13,
     "metadata": {},
     "output_type": "execute_result"
    }
   ],
   "source": [
    "from sklearn.decomposition import PCA\n",
    "pc_col=['total_impressions', 'viewable_impressions', 'measurable_impressions']\n",
    "pca = PCA()\n",
    "pca.fit(X[pc_col])"
   ]
  },
  {
   "cell_type": "code",
   "execution_count": 14,
   "id": "behind-translation",
   "metadata": {},
   "outputs": [
    {
     "data": {
      "text/plain": [
       "array([0.95351914, 0.99851015, 1.        ])"
      ]
     },
     "execution_count": 14,
     "metadata": {},
     "output_type": "execute_result"
    }
   ],
   "source": [
    "np.cumsum(pca.explained_variance_ratio_)"
   ]
  },
  {
   "cell_type": "code",
   "execution_count": 17,
   "id": "civilian-poland",
   "metadata": {},
   "outputs": [],
   "source": [
    "pca = PCA(n_components=1)\n",
    "cc = pca.fit_transform(X_train[pc_col])\n",
    "cd = pca.transform(X_test[pc_col])"
   ]
  },
  {
   "cell_type": "code",
   "execution_count": 18,
   "id": "joined-manner",
   "metadata": {
    "scrolled": true
   },
   "outputs": [],
   "source": [
    "X_train['PC']=cc\n",
    "X_test['PC']=cd"
   ]
  },
  {
   "cell_type": "code",
   "execution_count": 19,
   "id": "indie-universe",
   "metadata": {},
   "outputs": [],
   "source": [
    "X_train.drop(pc_col,axis=1,inplace=True)\n",
    "X_test.drop(pc_col,axis=1,inplace=True)"
   ]
  },
  {
   "cell_type": "code",
   "execution_count": 20,
   "id": "polish-minister",
   "metadata": {},
   "outputs": [],
   "source": [
    "from sklearn.linear_model import LinearRegression\n",
    "lr = LinearRegression()"
   ]
  },
  {
   "cell_type": "code",
   "execution_count": 22,
   "id": "studied-farming",
   "metadata": {},
   "outputs": [],
   "source": [
    "from sklearn.metrics import r2_score,mean_squared_error,mean_absolute_percentage_error"
   ]
  },
  {
   "cell_type": "code",
   "execution_count": 23,
   "id": "smoking-consideration",
   "metadata": {},
   "outputs": [
    {
     "name": "stdout",
     "output_type": "stream",
     "text": [
      "Train\n",
      "R2 Score: 0.6661111519764441\n",
      "Root Mean Squared Error: 0.3820520325938847\n",
      "Mean Absolute Percentage Error: 89320808780299.86\n",
      "\n",
      "\n",
      "Test\n",
      "R2 Score: 0.6925620011071734\n",
      "Root Mean Squared Error: 0.34540859563072146\n",
      "Mean Absolute Percentage Error: 76242881613089.38\n"
     ]
    }
   ],
   "source": [
    "lr.fit(X_train,y_train)\n",
    "y_train_pred=lr.predict(X_train)\n",
    "\n",
    "print('Train')\n",
    "print('R2 Score:',r2_score(y_train,y_train_pred))\n",
    "print('Root Mean Squared Error:',np.sqrt(mean_squared_error(y_train,y_train_pred)))\n",
    "print('Mean Absolute Percentage Error:',mean_absolute_percentage_error(y_train,y_train_pred))\n",
    "\n",
    "y_test_pred=lr.predict(X_test)\n",
    "\n",
    "print('\\n\\nTest')\n",
    "print('R2 Score:',r2_score(y_test,y_test_pred))\n",
    "print('Root Mean Squared Error:',np.sqrt(mean_squared_error(y_test,y_test_pred)))\n",
    "print('Mean Absolute Percentage Error:',mean_absolute_percentage_error(y_test,y_test_pred))"
   ]
  },
  {
   "cell_type": "code",
   "execution_count": null,
   "id": "constant-gravity",
   "metadata": {},
   "outputs": [],
   "source": [
    "from sklearn.ensemble import RandomForestRegressor"
   ]
  },
  {
   "cell_type": "code",
   "execution_count": null,
   "id": "spare-office",
   "metadata": {},
   "outputs": [],
   "source": [
    "rfr = RandomForestRegressor()\n",
    "\n",
    "rfr.fit(X_train,y_train)\n",
    "y_train_pred=rfr.predict(X_train)\n",
    "\n",
    "print('r2 Train',r2_score(y_train,y_train_pred))\n",
    "print('RMSE Train:',np.sqrt(mean_squared_error(y_train,y_train_pred)))\n",
    "\n",
    "y_test_pred=rfr.predict(X_test)\n",
    "\n",
    "print('\\n\\nTest')\n",
    "print('\\nr2 Test',r2_score(y_test,y_test_pred))\n",
    "print('RMSE Train:',np.sqrt(mean_squared_error(y_test,y_test_pred)))"
   ]
  },
  {
   "cell_type": "code",
   "execution_count": null,
   "id": "working-cameroon",
   "metadata": {},
   "outputs": [],
   "source": [
    "from sklearn.model_selection import RandomizedSearchCV\n",
    "from scipy.stats import randint as sp_randint"
   ]
  },
  {
   "cell_type": "raw",
   "id": "passing-assumption",
   "metadata": {},
   "source": [
    "rfr = RandomForestRegressor()\n",
    "\n",
    "param_dist = {'n_estimators':sp_randint(25,250),\n",
    "              'max_features':sp_randint(1,24),\n",
    "              'max_depth':sp_randint(2,15),\n",
    "              'min_samples_leaf':sp_randint(1,50)}\n",
    "\n",
    "rsearch = RandomizedSearchCV(rfr,param_distributions=param_dist,scoring='r2',\n",
    "                           n_iter=10,cv=3,n_jobs=-1,random_state=4)\n",
    "rsearch.fit(X_train,y_train)\n",
    "rsearch.best_params_"
   ]
  },
  {
   "cell_type": "code",
   "execution_count": null,
   "id": "quantitative-timothy",
   "metadata": {},
   "outputs": [],
   "source": [
    "rfrbest1 = {'max_depth': 12,\n",
    " 'max_features': 8,\n",
    " 'min_samples_leaf': 3,\n",
    " 'n_estimators': 160}"
   ]
  },
  {
   "cell_type": "code",
   "execution_count": null,
   "id": "blank-brave",
   "metadata": {},
   "outputs": [],
   "source": [
    "rfr = RandomForestRegressor(**rfrbest1)\n",
    "\n",
    "rfr.fit(X_train,y_train)\n",
    "y_train_pred=rfr.predict(X_train)\n",
    "\n",
    "print('r2 Train',r2_score(y_train,y_train_pred))\n",
    "print('RMSE Train:',np.sqrt(mean_squared_error(y_train,y_train_pred)))\n",
    "\n",
    "y_test_pred=rfr.predict(X_test)\n",
    "\n",
    "print('\\n\\nTest')\n",
    "print('\\nr2 Test',r2_score(y_test,y_test_pred))\n",
    "print('RMSE Train:',np.sqrt(mean_squared_error(y_test,y_test_pred)))"
   ]
  },
  {
   "cell_type": "raw",
   "id": "decimal-bones",
   "metadata": {},
   "source": [
    "rfr = RandomForestRegressor()\n",
    "\n",
    "param_dist = {'n_estimators':sp_randint(25,250),\n",
    "              'max_features':sp_randint(1,24),\n",
    "              'max_depth':sp_randint(2,15),\n",
    "              'min_samples_leaf':sp_randint(1,50)}\n",
    "\n",
    "rsearch = RandomizedSearchCV(rfr,param_distributions=param_dist,scoring='r2',\n",
    "                           n_iter=10,cv=3,n_jobs=-1,random_state=4)\n",
    "rsearch.fit(X_train,y_train)\n",
    "rsearch.best_params_"
   ]
  },
  {
   "cell_type": "code",
   "execution_count": null,
   "id": "atlantic-quilt",
   "metadata": {},
   "outputs": [],
   "source": [
    "rfrbest2 = {'max_depth': 12,\n",
    " 'max_features': 15,\n",
    " 'min_samples_leaf': 6,\n",
    " 'n_estimators': 154}"
   ]
  },
  {
   "cell_type": "code",
   "execution_count": null,
   "id": "immune-inquiry",
   "metadata": {},
   "outputs": [],
   "source": [
    "rfr = RandomForestRegressor(**rfrbest2)\n",
    "\n",
    "rfr.fit(X_train,y_train)\n",
    "y_train_pred=rfr.predict(X_train)\n",
    "\n",
    "print('r2 Train',r2_score(y_train,y_train_pred))\n",
    "print('RMSE Train:',np.sqrt(mean_squared_error(y_train,y_train_pred)))\n",
    "\n",
    "y_test_pred=rfr.predict(X_test)\n",
    "\n",
    "print('\\n\\nTest')\n",
    "print('\\nr2 Test',r2_score(y_test,y_test_pred))\n",
    "print('RMSE Train:',np.sqrt(mean_squared_error(y_test,y_test_pred)))"
   ]
  },
  {
   "cell_type": "code",
   "execution_count": null,
   "id": "speaking-stroke",
   "metadata": {},
   "outputs": [],
   "source": []
  },
  {
   "cell_type": "code",
   "execution_count": null,
   "id": "instrumental-scout",
   "metadata": {},
   "outputs": [],
   "source": []
  }
 ],
 "metadata": {
  "kernelspec": {
   "display_name": "Python 3",
   "language": "python",
   "name": "python3"
  },
  "language_info": {
   "codemirror_mode": {
    "name": "ipython",
    "version": 3
   },
   "file_extension": ".py",
   "mimetype": "text/x-python",
   "name": "python",
   "nbconvert_exporter": "python",
   "pygments_lexer": "ipython3",
   "version": "3.8.8"
  }
 },
 "nbformat": 4,
 "nbformat_minor": 5
}
